{
 "cells": [
  {
   "cell_type": "markdown",
   "metadata": {},
   "source": [
    "### Load data"
   ]
  },
  {
   "cell_type": "code",
   "execution_count": 1,
   "metadata": {},
   "outputs": [],
   "source": [
    "from pyspark.sql import SparkSession\n",
    "\n",
    "spark = SparkSession \\\n",
    "    .builder \\\n",
    "    .appName(\"BDPPproject\") \\\n",
    "    .config(\"spark.some.config.option\", \"some-value\") \\\n",
    "    .getOrCreate()"
   ]
  },
  {
   "cell_type": "code",
   "execution_count": 2,
   "metadata": {},
   "outputs": [
    {
     "name": "stdout",
     "output_type": "stream",
     "text": [
      "+---+---------+---+---------+--------+---+-----+-----+-----+-----+-----+-----+---------+---------+---------+---------+---------+---------+--------+--------+--------+--------+--------+--------+-------+\n",
      "| ID|LIMIT_BAL|SEX|EDUCATION|MARRIAGE|AGE|PAY_0|PAY_2|PAY_3|PAY_4|PAY_5|PAY_6|BILL_AMT1|BILL_AMT2|BILL_AMT3|BILL_AMT4|BILL_AMT5|BILL_AMT6|PAY_AMT1|PAY_AMT2|PAY_AMT3|PAY_AMT4|PAY_AMT5|PAY_AMT6|DEFAULT|\n",
      "+---+---------+---+---------+--------+---+-----+-----+-----+-----+-----+-----+---------+---------+---------+---------+---------+---------+--------+--------+--------+--------+--------+--------+-------+\n",
      "|  1|    20000|  2|        2|       1| 24|    2|    2|   -1|   -1|   -2|   -2|     3913|     3102|      689|        0|        0|        0|       0|     689|       0|       0|       0|       0|      1|\n",
      "|  2|   120000|  2|        2|       2| 26|   -1|    2|    0|    0|    0|    2|     2682|     1725|     2682|     3272|     3455|     3261|       0|    1000|    1000|    1000|       0|    2000|      1|\n",
      "|  3|    90000|  2|        2|       2| 34|    0|    0|    0|    0|    0|    0|    29239|    14027|    13559|    14331|    14948|    15549|    1518|    1500|    1000|    1000|    1000|    5000|      0|\n",
      "|  4|    50000|  2|        2|       1| 37|    0|    0|    0|    0|    0|    0|    46990|    48233|    49291|    28314|    28959|    29547|    2000|    2019|    1200|    1100|    1069|    1000|      0|\n",
      "|  5|    50000|  1|        2|       1| 57|   -1|    0|   -1|    0|    0|    0|     8617|     5670|    35835|    20940|    19146|    19131|    2000|   36681|   10000|    9000|     689|     679|      0|\n",
      "+---+---------+---+---------+--------+---+-----+-----+-----+-----+-----+-----+---------+---------+---------+---------+---------+---------+--------+--------+--------+--------+--------+--------+-------+\n",
      "only showing top 5 rows\n",
      "\n"
     ]
    }
   ],
   "source": [
    "cc = spark.read.csv(\"gs://bdppstorage/ccdefault.csv\", inferSchema=\"true\",header=\"true\")\n",
    "cc.show(5)"
   ]
  },
  {
   "cell_type": "markdown",
   "metadata": {},
   "source": [
    "### Schema and dimension"
   ]
  },
  {
   "cell_type": "code",
   "execution_count": 3,
   "metadata": {},
   "outputs": [
    {
     "name": "stdout",
     "output_type": "stream",
     "text": [
      "root\n",
      " |-- ID: integer (nullable = true)\n",
      " |-- LIMIT_BAL: integer (nullable = true)\n",
      " |-- SEX: integer (nullable = true)\n",
      " |-- EDUCATION: integer (nullable = true)\n",
      " |-- MARRIAGE: integer (nullable = true)\n",
      " |-- AGE: integer (nullable = true)\n",
      " |-- PAY_0: integer (nullable = true)\n",
      " |-- PAY_2: integer (nullable = true)\n",
      " |-- PAY_3: integer (nullable = true)\n",
      " |-- PAY_4: integer (nullable = true)\n",
      " |-- PAY_5: integer (nullable = true)\n",
      " |-- PAY_6: integer (nullable = true)\n",
      " |-- BILL_AMT1: integer (nullable = true)\n",
      " |-- BILL_AMT2: integer (nullable = true)\n",
      " |-- BILL_AMT3: integer (nullable = true)\n",
      " |-- BILL_AMT4: integer (nullable = true)\n",
      " |-- BILL_AMT5: integer (nullable = true)\n",
      " |-- BILL_AMT6: integer (nullable = true)\n",
      " |-- PAY_AMT1: integer (nullable = true)\n",
      " |-- PAY_AMT2: integer (nullable = true)\n",
      " |-- PAY_AMT3: integer (nullable = true)\n",
      " |-- PAY_AMT4: integer (nullable = true)\n",
      " |-- PAY_AMT5: integer (nullable = true)\n",
      " |-- PAY_AMT6: integer (nullable = true)\n",
      " |-- DEFAULT: integer (nullable = true)\n",
      "\n"
     ]
    }
   ],
   "source": [
    "cc.printSchema()"
   ]
  },
  {
   "cell_type": "code",
   "execution_count": 4,
   "metadata": {},
   "outputs": [
    {
     "data": {
      "text/plain": [
       "30000"
      ]
     },
     "execution_count": 4,
     "metadata": {},
     "output_type": "execute_result"
    }
   ],
   "source": [
    "cc.count()"
   ]
  },
  {
   "cell_type": "markdown",
   "metadata": {},
   "source": [
    "### Statistical summary"
   ]
  },
  {
   "cell_type": "code",
   "execution_count": 5,
   "metadata": {},
   "outputs": [
    {
     "data": {
      "text/html": [
       "<div>\n",
       "<style scoped>\n",
       "    .dataframe tbody tr th:only-of-type {\n",
       "        vertical-align: middle;\n",
       "    }\n",
       "\n",
       "    .dataframe tbody tr th {\n",
       "        vertical-align: top;\n",
       "    }\n",
       "\n",
       "    .dataframe thead th {\n",
       "        text-align: right;\n",
       "    }\n",
       "</style>\n",
       "<table border=\"1\" class=\"dataframe\">\n",
       "  <thead>\n",
       "    <tr style=\"text-align: right;\">\n",
       "      <th></th>\n",
       "      <th>0</th>\n",
       "      <th>1</th>\n",
       "      <th>2</th>\n",
       "      <th>3</th>\n",
       "      <th>4</th>\n",
       "    </tr>\n",
       "  </thead>\n",
       "  <tbody>\n",
       "    <tr>\n",
       "      <th>summary</th>\n",
       "      <td>count</td>\n",
       "      <td>mean</td>\n",
       "      <td>stddev</td>\n",
       "      <td>min</td>\n",
       "      <td>max</td>\n",
       "    </tr>\n",
       "    <tr>\n",
       "      <th>ID</th>\n",
       "      <td>30000</td>\n",
       "      <td>15000.5</td>\n",
       "      <td>8660.398374208891</td>\n",
       "      <td>1</td>\n",
       "      <td>30000</td>\n",
       "    </tr>\n",
       "    <tr>\n",
       "      <th>LIMIT_BAL</th>\n",
       "      <td>30000</td>\n",
       "      <td>167484.32266666667</td>\n",
       "      <td>129747.66156720246</td>\n",
       "      <td>10000</td>\n",
       "      <td>1000000</td>\n",
       "    </tr>\n",
       "    <tr>\n",
       "      <th>SEX</th>\n",
       "      <td>30000</td>\n",
       "      <td>1.6037333333333332</td>\n",
       "      <td>0.4891291960902602</td>\n",
       "      <td>1</td>\n",
       "      <td>2</td>\n",
       "    </tr>\n",
       "    <tr>\n",
       "      <th>EDUCATION</th>\n",
       "      <td>30000</td>\n",
       "      <td>1.8531333333333333</td>\n",
       "      <td>0.7903486597207269</td>\n",
       "      <td>0</td>\n",
       "      <td>6</td>\n",
       "    </tr>\n",
       "    <tr>\n",
       "      <th>MARRIAGE</th>\n",
       "      <td>30000</td>\n",
       "      <td>1.5518666666666667</td>\n",
       "      <td>0.5219696006132467</td>\n",
       "      <td>0</td>\n",
       "      <td>3</td>\n",
       "    </tr>\n",
       "    <tr>\n",
       "      <th>AGE</th>\n",
       "      <td>30000</td>\n",
       "      <td>35.4855</td>\n",
       "      <td>9.217904068090155</td>\n",
       "      <td>21</td>\n",
       "      <td>79</td>\n",
       "    </tr>\n",
       "    <tr>\n",
       "      <th>PAY_0</th>\n",
       "      <td>30000</td>\n",
       "      <td>-0.0167</td>\n",
       "      <td>1.1238015279973335</td>\n",
       "      <td>-2</td>\n",
       "      <td>8</td>\n",
       "    </tr>\n",
       "    <tr>\n",
       "      <th>PAY_2</th>\n",
       "      <td>30000</td>\n",
       "      <td>-0.13376666666666667</td>\n",
       "      <td>1.1971859730345495</td>\n",
       "      <td>-2</td>\n",
       "      <td>8</td>\n",
       "    </tr>\n",
       "    <tr>\n",
       "      <th>PAY_3</th>\n",
       "      <td>30000</td>\n",
       "      <td>-0.1662</td>\n",
       "      <td>1.1968675684465686</td>\n",
       "      <td>-2</td>\n",
       "      <td>8</td>\n",
       "    </tr>\n",
       "    <tr>\n",
       "      <th>PAY_4</th>\n",
       "      <td>30000</td>\n",
       "      <td>-0.22066666666666668</td>\n",
       "      <td>1.1691386224023357</td>\n",
       "      <td>-2</td>\n",
       "      <td>8</td>\n",
       "    </tr>\n",
       "    <tr>\n",
       "      <th>PAY_5</th>\n",
       "      <td>30000</td>\n",
       "      <td>-0.2662</td>\n",
       "      <td>1.1331874060027525</td>\n",
       "      <td>-2</td>\n",
       "      <td>8</td>\n",
       "    </tr>\n",
       "    <tr>\n",
       "      <th>PAY_6</th>\n",
       "      <td>30000</td>\n",
       "      <td>-0.2911</td>\n",
       "      <td>1.149987625607897</td>\n",
       "      <td>-2</td>\n",
       "      <td>8</td>\n",
       "    </tr>\n",
       "    <tr>\n",
       "      <th>BILL_AMT1</th>\n",
       "      <td>30000</td>\n",
       "      <td>51223.3309</td>\n",
       "      <td>73635.86057552966</td>\n",
       "      <td>-165580</td>\n",
       "      <td>964511</td>\n",
       "    </tr>\n",
       "    <tr>\n",
       "      <th>BILL_AMT2</th>\n",
       "      <td>30000</td>\n",
       "      <td>49179.07516666667</td>\n",
       "      <td>71173.76878252832</td>\n",
       "      <td>-69777</td>\n",
       "      <td>983931</td>\n",
       "    </tr>\n",
       "    <tr>\n",
       "      <th>BILL_AMT3</th>\n",
       "      <td>30000</td>\n",
       "      <td>47013.1548</td>\n",
       "      <td>69349.38742703677</td>\n",
       "      <td>-157264</td>\n",
       "      <td>1664089</td>\n",
       "    </tr>\n",
       "    <tr>\n",
       "      <th>BILL_AMT4</th>\n",
       "      <td>30000</td>\n",
       "      <td>43262.94896666666</td>\n",
       "      <td>64332.856133916444</td>\n",
       "      <td>-170000</td>\n",
       "      <td>891586</td>\n",
       "    </tr>\n",
       "    <tr>\n",
       "      <th>BILL_AMT5</th>\n",
       "      <td>30000</td>\n",
       "      <td>40311.40096666667</td>\n",
       "      <td>60797.15577026471</td>\n",
       "      <td>-81334</td>\n",
       "      <td>927171</td>\n",
       "    </tr>\n",
       "    <tr>\n",
       "      <th>BILL_AMT6</th>\n",
       "      <td>30000</td>\n",
       "      <td>38871.7604</td>\n",
       "      <td>59554.1075367459</td>\n",
       "      <td>-339603</td>\n",
       "      <td>961664</td>\n",
       "    </tr>\n",
       "    <tr>\n",
       "      <th>PAY_AMT1</th>\n",
       "      <td>30000</td>\n",
       "      <td>5663.5805</td>\n",
       "      <td>16563.28035402577</td>\n",
       "      <td>0</td>\n",
       "      <td>873552</td>\n",
       "    </tr>\n",
       "    <tr>\n",
       "      <th>PAY_AMT2</th>\n",
       "      <td>30000</td>\n",
       "      <td>5921.1635</td>\n",
       "      <td>23040.870402057186</td>\n",
       "      <td>0</td>\n",
       "      <td>1684259</td>\n",
       "    </tr>\n",
       "    <tr>\n",
       "      <th>PAY_AMT3</th>\n",
       "      <td>30000</td>\n",
       "      <td>5225.6815</td>\n",
       "      <td>17606.96146980311</td>\n",
       "      <td>0</td>\n",
       "      <td>896040</td>\n",
       "    </tr>\n",
       "    <tr>\n",
       "      <th>PAY_AMT4</th>\n",
       "      <td>30000</td>\n",
       "      <td>4826.076866666666</td>\n",
       "      <td>15666.159744032062</td>\n",
       "      <td>0</td>\n",
       "      <td>621000</td>\n",
       "    </tr>\n",
       "    <tr>\n",
       "      <th>PAY_AMT5</th>\n",
       "      <td>30000</td>\n",
       "      <td>4799.387633333334</td>\n",
       "      <td>15278.305679144742</td>\n",
       "      <td>0</td>\n",
       "      <td>426529</td>\n",
       "    </tr>\n",
       "    <tr>\n",
       "      <th>PAY_AMT6</th>\n",
       "      <td>30000</td>\n",
       "      <td>5215.502566666667</td>\n",
       "      <td>17777.46577543531</td>\n",
       "      <td>0</td>\n",
       "      <td>528666</td>\n",
       "    </tr>\n",
       "    <tr>\n",
       "      <th>DEFAULT</th>\n",
       "      <td>30000</td>\n",
       "      <td>0.2212</td>\n",
       "      <td>0.41506180569093254</td>\n",
       "      <td>0</td>\n",
       "      <td>1</td>\n",
       "    </tr>\n",
       "  </tbody>\n",
       "</table>\n",
       "</div>"
      ],
      "text/plain": [
       "               0                     1                    2        3        4\n",
       "summary    count                  mean               stddev      min      max\n",
       "ID         30000               15000.5    8660.398374208891        1    30000\n",
       "LIMIT_BAL  30000    167484.32266666667   129747.66156720246    10000  1000000\n",
       "SEX        30000    1.6037333333333332   0.4891291960902602        1        2\n",
       "EDUCATION  30000    1.8531333333333333   0.7903486597207269        0        6\n",
       "MARRIAGE   30000    1.5518666666666667   0.5219696006132467        0        3\n",
       "AGE        30000               35.4855    9.217904068090155       21       79\n",
       "PAY_0      30000               -0.0167   1.1238015279973335       -2        8\n",
       "PAY_2      30000  -0.13376666666666667   1.1971859730345495       -2        8\n",
       "PAY_3      30000               -0.1662   1.1968675684465686       -2        8\n",
       "PAY_4      30000  -0.22066666666666668   1.1691386224023357       -2        8\n",
       "PAY_5      30000               -0.2662   1.1331874060027525       -2        8\n",
       "PAY_6      30000               -0.2911    1.149987625607897       -2        8\n",
       "BILL_AMT1  30000            51223.3309    73635.86057552966  -165580   964511\n",
       "BILL_AMT2  30000     49179.07516666667    71173.76878252832   -69777   983931\n",
       "BILL_AMT3  30000            47013.1548    69349.38742703677  -157264  1664089\n",
       "BILL_AMT4  30000     43262.94896666666   64332.856133916444  -170000   891586\n",
       "BILL_AMT5  30000     40311.40096666667    60797.15577026471   -81334   927171\n",
       "BILL_AMT6  30000            38871.7604     59554.1075367459  -339603   961664\n",
       "PAY_AMT1   30000             5663.5805    16563.28035402577        0   873552\n",
       "PAY_AMT2   30000             5921.1635   23040.870402057186        0  1684259\n",
       "PAY_AMT3   30000             5225.6815    17606.96146980311        0   896040\n",
       "PAY_AMT4   30000     4826.076866666666   15666.159744032062        0   621000\n",
       "PAY_AMT5   30000     4799.387633333334   15278.305679144742        0   426529\n",
       "PAY_AMT6   30000     5215.502566666667    17777.46577543531        0   528666\n",
       "DEFAULT    30000                0.2212  0.41506180569093254        0        1"
      ]
     },
     "execution_count": 5,
     "metadata": {},
     "output_type": "execute_result"
    }
   ],
   "source": [
    "cc.describe().toPandas().transpose()"
   ]
  },
  {
   "cell_type": "code",
   "execution_count": 6,
   "metadata": {},
   "outputs": [
    {
     "name": "stdout",
     "output_type": "stream",
     "text": [
      "+-------+-----+\n",
      "|DEFAULT|count|\n",
      "+-------+-----+\n",
      "|      1| 6636|\n",
      "|      0|23364|\n",
      "+-------+-----+\n",
      "\n"
     ]
    }
   ],
   "source": [
    "cc.groupBy('DEFAULT').count().show()"
   ]
  },
  {
   "cell_type": "markdown",
   "metadata": {},
   "source": [
    "### Crosstab computation"
   ]
  },
  {
   "cell_type": "code",
   "execution_count": 7,
   "metadata": {},
   "outputs": [
    {
     "name": "stdout",
     "output_type": "stream",
     "text": [
      "+-----------+-----+----+\n",
      "|SEX_DEFAULT|    0|   1|\n",
      "+-----------+-----+----+\n",
      "|          1| 9015|2873|\n",
      "|          2|14349|3763|\n",
      "+-----------+-----+----+\n",
      "\n"
     ]
    }
   ],
   "source": [
    "cc.crosstab('SEX', 'DEFAULT').sort(\"SEX_DEFAULT\").show()"
   ]
  },
  {
   "cell_type": "code",
   "execution_count": 8,
   "metadata": {},
   "outputs": [
    {
     "name": "stdout",
     "output_type": "stream",
     "text": [
      "+-----------------+-----+----+\n",
      "|EDUCATION_DEFAULT|    0|   1|\n",
      "+-----------------+-----+----+\n",
      "|                0|   14|   0|\n",
      "|                1| 8549|2036|\n",
      "|                2|10700|3330|\n",
      "|                3| 3680|1237|\n",
      "|                4|  116|   7|\n",
      "|                5|  262|  18|\n",
      "|                6|   43|   8|\n",
      "+-----------------+-----+----+\n",
      "\n"
     ]
    }
   ],
   "source": [
    "cc.crosstab('EDUCATION', 'DEFAULT').sort(\"EDUCATION_DEFAULT\").show()"
   ]
  },
  {
   "cell_type": "code",
   "execution_count": 9,
   "metadata": {},
   "outputs": [
    {
     "name": "stdout",
     "output_type": "stream",
     "text": [
      "+----------------+-----+----+\n",
      "|MARRIAGE_DEFAULT|    0|   1|\n",
      "+----------------+-----+----+\n",
      "|               0|   49|   5|\n",
      "|               1|10453|3206|\n",
      "|               2|12623|3341|\n",
      "|               3|  239|  84|\n",
      "+----------------+-----+----+\n",
      "\n"
     ]
    }
   ],
   "source": [
    "cc.crosstab('MARRIAGE', 'DEFAULT').sort(\"MARRIAGE_DEFAULT\").show()"
   ]
  },
  {
   "cell_type": "code",
   "execution_count": 10,
   "metadata": {},
   "outputs": [
    {
     "name": "stdout",
     "output_type": "stream",
     "text": [
      "+--------+------------------+\n",
      "|MARRIAGE|    avg(LIMIT_BAL)|\n",
      "+--------+------------------+\n",
      "|       1|182200.89318398127|\n",
      "|       3| 98080.49535603715|\n",
      "|       2|156413.66073665748|\n",
      "|       0|132962.96296296295|\n",
      "+--------+------------------+\n",
      "\n"
     ]
    }
   ],
   "source": [
    "cc.groupby('MARRIAGE').agg({'LIMIT_BAL': 'mean'}).show()"
   ]
  },
  {
   "cell_type": "markdown",
   "metadata": {},
   "source": [
    "###  Correlation among attributes"
   ]
  },
  {
   "cell_type": "code",
   "execution_count": 11,
   "metadata": {},
   "outputs": [
    {
     "name": "stdout",
     "output_type": "stream",
     "text": [
      "correlation matrix:\n",
      "DenseMatrix([[ 1.        , -0.03996058],\n",
      "             [-0.03996058,  1.        ]])\n"
     ]
    }
   ],
   "source": [
    "from pyspark.ml.linalg import Vectors\n",
    "from pyspark.ml.stat import Correlation\n",
    "from pyspark.ml.feature import VectorAssembler\n",
    "\n",
    "assembler = VectorAssembler(\n",
    "    inputCols=['SEX', 'DEFAULT'],\n",
    "    outputCol=\"Se_De\")\n",
    "\n",
    "creditcard = assembler.transform(cc)\n",
    "#creditcard.select(\"Se_De\").show(5)\n",
    "r1 = Correlation.corr(creditcard, \"Se_De\").head()\n",
    "print(\"correlation matrix:\\n\" + str(r1[0]))"
   ]
  },
  {
   "cell_type": "code",
   "execution_count": 12,
   "metadata": {},
   "outputs": [
    {
     "name": "stdout",
     "output_type": "stream",
     "text": [
      "correlation matrix:\n",
      "DenseMatrix([[ 1.        , -0.02433922],\n",
      "             [-0.02433922,  1.        ]])\n"
     ]
    }
   ],
   "source": [
    "assembler = VectorAssembler(inputCols=[\"MARRIAGE\",\"DEFAULT\"],outputCol=\"Ma_De\")\n",
    "creditcard2 = assembler.transform(cc)\n",
    "\n",
    "r2 = Correlation.corr(creditcard2, \"Ma_De\").head()\n",
    "print(\"correlation matrix:\\n\" + str(r2[0]))"
   ]
  },
  {
   "cell_type": "code",
   "execution_count": 13,
   "metadata": {
    "scrolled": true
   },
   "outputs": [
    {
     "data": {
      "text/html": [
       "<div>\n",
       "<style scoped>\n",
       "    .dataframe tbody tr th:only-of-type {\n",
       "        vertical-align: middle;\n",
       "    }\n",
       "\n",
       "    .dataframe tbody tr th {\n",
       "        vertical-align: top;\n",
       "    }\n",
       "\n",
       "    .dataframe thead th {\n",
       "        text-align: right;\n",
       "    }\n",
       "</style>\n",
       "<table border=\"1\" class=\"dataframe\">\n",
       "  <thead>\n",
       "    <tr style=\"text-align: right;\">\n",
       "      <th></th>\n",
       "      <th>ID</th>\n",
       "      <th>LIMIT_BAL</th>\n",
       "      <th>SEX</th>\n",
       "      <th>EDUCATION</th>\n",
       "      <th>MARRIAGE</th>\n",
       "      <th>AGE</th>\n",
       "      <th>PAY_0</th>\n",
       "      <th>PAY_2</th>\n",
       "      <th>PAY_3</th>\n",
       "      <th>PAY_4</th>\n",
       "      <th>...</th>\n",
       "      <th>BILL_AMT4</th>\n",
       "      <th>BILL_AMT5</th>\n",
       "      <th>BILL_AMT6</th>\n",
       "      <th>PAY_AMT1</th>\n",
       "      <th>PAY_AMT2</th>\n",
       "      <th>PAY_AMT3</th>\n",
       "      <th>PAY_AMT4</th>\n",
       "      <th>PAY_AMT5</th>\n",
       "      <th>PAY_AMT6</th>\n",
       "      <th>DEFAULT</th>\n",
       "    </tr>\n",
       "  </thead>\n",
       "  <tbody>\n",
       "    <tr>\n",
       "      <th>ID</th>\n",
       "      <td>1.000000</td>\n",
       "      <td>0.026179</td>\n",
       "      <td>0.018497</td>\n",
       "      <td>0.039177</td>\n",
       "      <td>-0.029079</td>\n",
       "      <td>0.018678</td>\n",
       "      <td>-0.030575</td>\n",
       "      <td>-0.011215</td>\n",
       "      <td>-0.018494</td>\n",
       "      <td>-0.002735</td>\n",
       "      <td>...</td>\n",
       "      <td>0.040351</td>\n",
       "      <td>0.016705</td>\n",
       "      <td>0.016730</td>\n",
       "      <td>0.009742</td>\n",
       "      <td>0.008406</td>\n",
       "      <td>0.039151</td>\n",
       "      <td>0.007793</td>\n",
       "      <td>0.000652</td>\n",
       "      <td>0.003000</td>\n",
       "      <td>-0.013952</td>\n",
       "    </tr>\n",
       "    <tr>\n",
       "      <th>LIMIT_BAL</th>\n",
       "      <td>0.026179</td>\n",
       "      <td>1.000000</td>\n",
       "      <td>0.024755</td>\n",
       "      <td>-0.219161</td>\n",
       "      <td>-0.108139</td>\n",
       "      <td>0.144713</td>\n",
       "      <td>-0.271214</td>\n",
       "      <td>-0.296382</td>\n",
       "      <td>-0.286123</td>\n",
       "      <td>-0.267460</td>\n",
       "      <td>...</td>\n",
       "      <td>0.293988</td>\n",
       "      <td>0.295562</td>\n",
       "      <td>0.290389</td>\n",
       "      <td>0.195236</td>\n",
       "      <td>0.178408</td>\n",
       "      <td>0.210167</td>\n",
       "      <td>0.203242</td>\n",
       "      <td>0.217202</td>\n",
       "      <td>0.219595</td>\n",
       "      <td>-0.153520</td>\n",
       "    </tr>\n",
       "    <tr>\n",
       "      <th>SEX</th>\n",
       "      <td>0.018497</td>\n",
       "      <td>0.024755</td>\n",
       "      <td>1.000000</td>\n",
       "      <td>0.014232</td>\n",
       "      <td>-0.031389</td>\n",
       "      <td>-0.090874</td>\n",
       "      <td>-0.057643</td>\n",
       "      <td>-0.070771</td>\n",
       "      <td>-0.066096</td>\n",
       "      <td>-0.060173</td>\n",
       "      <td>...</td>\n",
       "      <td>-0.021880</td>\n",
       "      <td>-0.017005</td>\n",
       "      <td>-0.016733</td>\n",
       "      <td>-0.000242</td>\n",
       "      <td>-0.001391</td>\n",
       "      <td>-0.008597</td>\n",
       "      <td>-0.002229</td>\n",
       "      <td>-0.001667</td>\n",
       "      <td>-0.002766</td>\n",
       "      <td>-0.039961</td>\n",
       "    </tr>\n",
       "    <tr>\n",
       "      <th>EDUCATION</th>\n",
       "      <td>0.039177</td>\n",
       "      <td>-0.219161</td>\n",
       "      <td>0.014232</td>\n",
       "      <td>1.000000</td>\n",
       "      <td>-0.143464</td>\n",
       "      <td>0.175061</td>\n",
       "      <td>0.105364</td>\n",
       "      <td>0.121566</td>\n",
       "      <td>0.114025</td>\n",
       "      <td>0.108793</td>\n",
       "      <td>...</td>\n",
       "      <td>-0.000451</td>\n",
       "      <td>-0.007567</td>\n",
       "      <td>-0.009099</td>\n",
       "      <td>-0.037456</td>\n",
       "      <td>-0.030038</td>\n",
       "      <td>-0.039943</td>\n",
       "      <td>-0.038218</td>\n",
       "      <td>-0.040358</td>\n",
       "      <td>-0.037200</td>\n",
       "      <td>0.028006</td>\n",
       "    </tr>\n",
       "    <tr>\n",
       "      <th>MARRIAGE</th>\n",
       "      <td>-0.029079</td>\n",
       "      <td>-0.108139</td>\n",
       "      <td>-0.031389</td>\n",
       "      <td>-0.143464</td>\n",
       "      <td>1.000000</td>\n",
       "      <td>-0.414170</td>\n",
       "      <td>0.019917</td>\n",
       "      <td>0.024199</td>\n",
       "      <td>0.032688</td>\n",
       "      <td>0.033122</td>\n",
       "      <td>...</td>\n",
       "      <td>-0.023344</td>\n",
       "      <td>-0.025393</td>\n",
       "      <td>-0.021207</td>\n",
       "      <td>-0.005979</td>\n",
       "      <td>-0.008093</td>\n",
       "      <td>-0.003541</td>\n",
       "      <td>-0.012659</td>\n",
       "      <td>-0.001205</td>\n",
       "      <td>-0.006641</td>\n",
       "      <td>-0.024339</td>\n",
       "    </tr>\n",
       "    <tr>\n",
       "      <th>AGE</th>\n",
       "      <td>0.018678</td>\n",
       "      <td>0.144713</td>\n",
       "      <td>-0.090874</td>\n",
       "      <td>0.175061</td>\n",
       "      <td>-0.414170</td>\n",
       "      <td>1.000000</td>\n",
       "      <td>-0.039447</td>\n",
       "      <td>-0.050148</td>\n",
       "      <td>-0.053048</td>\n",
       "      <td>-0.049722</td>\n",
       "      <td>...</td>\n",
       "      <td>0.051353</td>\n",
       "      <td>0.049345</td>\n",
       "      <td>0.047613</td>\n",
       "      <td>0.026147</td>\n",
       "      <td>0.021785</td>\n",
       "      <td>0.029247</td>\n",
       "      <td>0.021379</td>\n",
       "      <td>0.022850</td>\n",
       "      <td>0.019478</td>\n",
       "      <td>0.013890</td>\n",
       "    </tr>\n",
       "    <tr>\n",
       "      <th>PAY_0</th>\n",
       "      <td>-0.030575</td>\n",
       "      <td>-0.271214</td>\n",
       "      <td>-0.057643</td>\n",
       "      <td>0.105364</td>\n",
       "      <td>0.019917</td>\n",
       "      <td>-0.039447</td>\n",
       "      <td>1.000000</td>\n",
       "      <td>0.672164</td>\n",
       "      <td>0.574245</td>\n",
       "      <td>0.538841</td>\n",
       "      <td>...</td>\n",
       "      <td>0.179125</td>\n",
       "      <td>0.180635</td>\n",
       "      <td>0.176980</td>\n",
       "      <td>-0.079269</td>\n",
       "      <td>-0.070101</td>\n",
       "      <td>-0.070561</td>\n",
       "      <td>-0.064005</td>\n",
       "      <td>-0.058190</td>\n",
       "      <td>-0.058673</td>\n",
       "      <td>0.324794</td>\n",
       "    </tr>\n",
       "    <tr>\n",
       "      <th>PAY_2</th>\n",
       "      <td>-0.011215</td>\n",
       "      <td>-0.296382</td>\n",
       "      <td>-0.070771</td>\n",
       "      <td>0.121566</td>\n",
       "      <td>0.024199</td>\n",
       "      <td>-0.050148</td>\n",
       "      <td>0.672164</td>\n",
       "      <td>1.000000</td>\n",
       "      <td>0.766552</td>\n",
       "      <td>0.662067</td>\n",
       "      <td>...</td>\n",
       "      <td>0.222237</td>\n",
       "      <td>0.221348</td>\n",
       "      <td>0.219403</td>\n",
       "      <td>-0.080701</td>\n",
       "      <td>-0.058990</td>\n",
       "      <td>-0.055901</td>\n",
       "      <td>-0.046858</td>\n",
       "      <td>-0.037093</td>\n",
       "      <td>-0.036500</td>\n",
       "      <td>0.263551</td>\n",
       "    </tr>\n",
       "    <tr>\n",
       "      <th>PAY_3</th>\n",
       "      <td>-0.018494</td>\n",
       "      <td>-0.286123</td>\n",
       "      <td>-0.066096</td>\n",
       "      <td>0.114025</td>\n",
       "      <td>0.032688</td>\n",
       "      <td>-0.053048</td>\n",
       "      <td>0.574245</td>\n",
       "      <td>0.766552</td>\n",
       "      <td>1.000000</td>\n",
       "      <td>0.777359</td>\n",
       "      <td>...</td>\n",
       "      <td>0.227202</td>\n",
       "      <td>0.225145</td>\n",
       "      <td>0.222327</td>\n",
       "      <td>0.001295</td>\n",
       "      <td>-0.066793</td>\n",
       "      <td>-0.053311</td>\n",
       "      <td>-0.046067</td>\n",
       "      <td>-0.035863</td>\n",
       "      <td>-0.035861</td>\n",
       "      <td>0.235253</td>\n",
       "    </tr>\n",
       "    <tr>\n",
       "      <th>PAY_4</th>\n",
       "      <td>-0.002735</td>\n",
       "      <td>-0.267460</td>\n",
       "      <td>-0.060173</td>\n",
       "      <td>0.108793</td>\n",
       "      <td>0.033122</td>\n",
       "      <td>-0.049722</td>\n",
       "      <td>0.538841</td>\n",
       "      <td>0.662067</td>\n",
       "      <td>0.777359</td>\n",
       "      <td>1.000000</td>\n",
       "      <td>...</td>\n",
       "      <td>0.245917</td>\n",
       "      <td>0.242902</td>\n",
       "      <td>0.239154</td>\n",
       "      <td>-0.009362</td>\n",
       "      <td>-0.001944</td>\n",
       "      <td>-0.069235</td>\n",
       "      <td>-0.043461</td>\n",
       "      <td>-0.033590</td>\n",
       "      <td>-0.026565</td>\n",
       "      <td>0.216614</td>\n",
       "    </tr>\n",
       "    <tr>\n",
       "      <th>PAY_5</th>\n",
       "      <td>-0.022199</td>\n",
       "      <td>-0.249411</td>\n",
       "      <td>-0.055064</td>\n",
       "      <td>0.097520</td>\n",
       "      <td>0.035629</td>\n",
       "      <td>-0.053826</td>\n",
       "      <td>0.509426</td>\n",
       "      <td>0.622780</td>\n",
       "      <td>0.686775</td>\n",
       "      <td>0.819835</td>\n",
       "      <td>...</td>\n",
       "      <td>0.271915</td>\n",
       "      <td>0.269783</td>\n",
       "      <td>0.262509</td>\n",
       "      <td>-0.006089</td>\n",
       "      <td>-0.003191</td>\n",
       "      <td>0.009062</td>\n",
       "      <td>-0.058299</td>\n",
       "      <td>-0.033337</td>\n",
       "      <td>-0.023027</td>\n",
       "      <td>0.204149</td>\n",
       "    </tr>\n",
       "    <tr>\n",
       "      <th>PAY_6</th>\n",
       "      <td>-0.020270</td>\n",
       "      <td>-0.235195</td>\n",
       "      <td>-0.044008</td>\n",
       "      <td>0.082316</td>\n",
       "      <td>0.034345</td>\n",
       "      <td>-0.048773</td>\n",
       "      <td>0.474553</td>\n",
       "      <td>0.575501</td>\n",
       "      <td>0.632684</td>\n",
       "      <td>0.716449</td>\n",
       "      <td>...</td>\n",
       "      <td>0.266356</td>\n",
       "      <td>0.290894</td>\n",
       "      <td>0.285091</td>\n",
       "      <td>-0.001496</td>\n",
       "      <td>-0.005223</td>\n",
       "      <td>0.005834</td>\n",
       "      <td>0.019018</td>\n",
       "      <td>-0.046434</td>\n",
       "      <td>-0.025299</td>\n",
       "      <td>0.186866</td>\n",
       "    </tr>\n",
       "    <tr>\n",
       "      <th>BILL_AMT1</th>\n",
       "      <td>0.019389</td>\n",
       "      <td>0.285430</td>\n",
       "      <td>-0.033642</td>\n",
       "      <td>0.023581</td>\n",
       "      <td>-0.023472</td>\n",
       "      <td>0.056239</td>\n",
       "      <td>0.187068</td>\n",
       "      <td>0.234887</td>\n",
       "      <td>0.208473</td>\n",
       "      <td>0.202812</td>\n",
       "      <td>...</td>\n",
       "      <td>0.860272</td>\n",
       "      <td>0.829779</td>\n",
       "      <td>0.802650</td>\n",
       "      <td>0.140277</td>\n",
       "      <td>0.099355</td>\n",
       "      <td>0.156887</td>\n",
       "      <td>0.158303</td>\n",
       "      <td>0.167026</td>\n",
       "      <td>0.179341</td>\n",
       "      <td>-0.019644</td>\n",
       "    </tr>\n",
       "    <tr>\n",
       "      <th>BILL_AMT2</th>\n",
       "      <td>0.017982</td>\n",
       "      <td>0.278314</td>\n",
       "      <td>-0.031183</td>\n",
       "      <td>0.018749</td>\n",
       "      <td>-0.021602</td>\n",
       "      <td>0.054283</td>\n",
       "      <td>0.189859</td>\n",
       "      <td>0.235257</td>\n",
       "      <td>0.237295</td>\n",
       "      <td>0.225816</td>\n",
       "      <td>...</td>\n",
       "      <td>0.892482</td>\n",
       "      <td>0.859778</td>\n",
       "      <td>0.831594</td>\n",
       "      <td>0.280365</td>\n",
       "      <td>0.100851</td>\n",
       "      <td>0.150718</td>\n",
       "      <td>0.147398</td>\n",
       "      <td>0.157957</td>\n",
       "      <td>0.174256</td>\n",
       "      <td>-0.014193</td>\n",
       "    </tr>\n",
       "    <tr>\n",
       "      <th>BILL_AMT3</th>\n",
       "      <td>0.024354</td>\n",
       "      <td>0.283236</td>\n",
       "      <td>-0.024563</td>\n",
       "      <td>0.013002</td>\n",
       "      <td>-0.024909</td>\n",
       "      <td>0.053710</td>\n",
       "      <td>0.179785</td>\n",
       "      <td>0.224146</td>\n",
       "      <td>0.227494</td>\n",
       "      <td>0.244983</td>\n",
       "      <td>...</td>\n",
       "      <td>0.923969</td>\n",
       "      <td>0.883910</td>\n",
       "      <td>0.853320</td>\n",
       "      <td>0.244335</td>\n",
       "      <td>0.316936</td>\n",
       "      <td>0.130011</td>\n",
       "      <td>0.143405</td>\n",
       "      <td>0.179712</td>\n",
       "      <td>0.182326</td>\n",
       "      <td>-0.014076</td>\n",
       "    </tr>\n",
       "    <tr>\n",
       "      <th>BILL_AMT4</th>\n",
       "      <td>0.040351</td>\n",
       "      <td>0.293988</td>\n",
       "      <td>-0.021880</td>\n",
       "      <td>-0.000451</td>\n",
       "      <td>-0.023344</td>\n",
       "      <td>0.051353</td>\n",
       "      <td>0.179125</td>\n",
       "      <td>0.222237</td>\n",
       "      <td>0.227202</td>\n",
       "      <td>0.245917</td>\n",
       "      <td>...</td>\n",
       "      <td>1.000000</td>\n",
       "      <td>0.940134</td>\n",
       "      <td>0.900941</td>\n",
       "      <td>0.233012</td>\n",
       "      <td>0.207564</td>\n",
       "      <td>0.300023</td>\n",
       "      <td>0.130191</td>\n",
       "      <td>0.160433</td>\n",
       "      <td>0.177637</td>\n",
       "      <td>-0.010156</td>\n",
       "    </tr>\n",
       "    <tr>\n",
       "      <th>BILL_AMT5</th>\n",
       "      <td>0.016705</td>\n",
       "      <td>0.295562</td>\n",
       "      <td>-0.017005</td>\n",
       "      <td>-0.007567</td>\n",
       "      <td>-0.025393</td>\n",
       "      <td>0.049345</td>\n",
       "      <td>0.180635</td>\n",
       "      <td>0.221348</td>\n",
       "      <td>0.225145</td>\n",
       "      <td>0.242902</td>\n",
       "      <td>...</td>\n",
       "      <td>0.940134</td>\n",
       "      <td>1.000000</td>\n",
       "      <td>0.946197</td>\n",
       "      <td>0.217031</td>\n",
       "      <td>0.181246</td>\n",
       "      <td>0.252305</td>\n",
       "      <td>0.293118</td>\n",
       "      <td>0.141574</td>\n",
       "      <td>0.164184</td>\n",
       "      <td>-0.006760</td>\n",
       "    </tr>\n",
       "    <tr>\n",
       "      <th>BILL_AMT6</th>\n",
       "      <td>0.016730</td>\n",
       "      <td>0.290389</td>\n",
       "      <td>-0.016733</td>\n",
       "      <td>-0.009099</td>\n",
       "      <td>-0.021207</td>\n",
       "      <td>0.047613</td>\n",
       "      <td>0.176980</td>\n",
       "      <td>0.219403</td>\n",
       "      <td>0.222327</td>\n",
       "      <td>0.239154</td>\n",
       "      <td>...</td>\n",
       "      <td>0.900941</td>\n",
       "      <td>0.946197</td>\n",
       "      <td>1.000000</td>\n",
       "      <td>0.199965</td>\n",
       "      <td>0.172663</td>\n",
       "      <td>0.233770</td>\n",
       "      <td>0.250237</td>\n",
       "      <td>0.307729</td>\n",
       "      <td>0.115494</td>\n",
       "      <td>-0.005372</td>\n",
       "    </tr>\n",
       "    <tr>\n",
       "      <th>PAY_AMT1</th>\n",
       "      <td>0.009742</td>\n",
       "      <td>0.195236</td>\n",
       "      <td>-0.000242</td>\n",
       "      <td>-0.037456</td>\n",
       "      <td>-0.005979</td>\n",
       "      <td>0.026147</td>\n",
       "      <td>-0.079269</td>\n",
       "      <td>-0.080701</td>\n",
       "      <td>0.001295</td>\n",
       "      <td>-0.009362</td>\n",
       "      <td>...</td>\n",
       "      <td>0.233012</td>\n",
       "      <td>0.217031</td>\n",
       "      <td>0.199965</td>\n",
       "      <td>1.000000</td>\n",
       "      <td>0.285576</td>\n",
       "      <td>0.252191</td>\n",
       "      <td>0.199558</td>\n",
       "      <td>0.148459</td>\n",
       "      <td>0.185735</td>\n",
       "      <td>-0.072929</td>\n",
       "    </tr>\n",
       "    <tr>\n",
       "      <th>PAY_AMT2</th>\n",
       "      <td>0.008406</td>\n",
       "      <td>0.178408</td>\n",
       "      <td>-0.001391</td>\n",
       "      <td>-0.030038</td>\n",
       "      <td>-0.008093</td>\n",
       "      <td>0.021785</td>\n",
       "      <td>-0.070101</td>\n",
       "      <td>-0.058990</td>\n",
       "      <td>-0.066793</td>\n",
       "      <td>-0.001944</td>\n",
       "      <td>...</td>\n",
       "      <td>0.207564</td>\n",
       "      <td>0.181246</td>\n",
       "      <td>0.172663</td>\n",
       "      <td>0.285576</td>\n",
       "      <td>1.000000</td>\n",
       "      <td>0.244770</td>\n",
       "      <td>0.180107</td>\n",
       "      <td>0.180908</td>\n",
       "      <td>0.157634</td>\n",
       "      <td>-0.058579</td>\n",
       "    </tr>\n",
       "    <tr>\n",
       "      <th>PAY_AMT3</th>\n",
       "      <td>0.039151</td>\n",
       "      <td>0.210167</td>\n",
       "      <td>-0.008597</td>\n",
       "      <td>-0.039943</td>\n",
       "      <td>-0.003541</td>\n",
       "      <td>0.029247</td>\n",
       "      <td>-0.070561</td>\n",
       "      <td>-0.055901</td>\n",
       "      <td>-0.053311</td>\n",
       "      <td>-0.069235</td>\n",
       "      <td>...</td>\n",
       "      <td>0.300023</td>\n",
       "      <td>0.252305</td>\n",
       "      <td>0.233770</td>\n",
       "      <td>0.252191</td>\n",
       "      <td>0.244770</td>\n",
       "      <td>1.000000</td>\n",
       "      <td>0.216325</td>\n",
       "      <td>0.159214</td>\n",
       "      <td>0.162740</td>\n",
       "      <td>-0.056250</td>\n",
       "    </tr>\n",
       "    <tr>\n",
       "      <th>PAY_AMT4</th>\n",
       "      <td>0.007793</td>\n",
       "      <td>0.203242</td>\n",
       "      <td>-0.002229</td>\n",
       "      <td>-0.038218</td>\n",
       "      <td>-0.012659</td>\n",
       "      <td>0.021379</td>\n",
       "      <td>-0.064005</td>\n",
       "      <td>-0.046858</td>\n",
       "      <td>-0.046067</td>\n",
       "      <td>-0.043461</td>\n",
       "      <td>...</td>\n",
       "      <td>0.130191</td>\n",
       "      <td>0.293118</td>\n",
       "      <td>0.250237</td>\n",
       "      <td>0.199558</td>\n",
       "      <td>0.180107</td>\n",
       "      <td>0.216325</td>\n",
       "      <td>1.000000</td>\n",
       "      <td>0.151830</td>\n",
       "      <td>0.157834</td>\n",
       "      <td>-0.056827</td>\n",
       "    </tr>\n",
       "    <tr>\n",
       "      <th>PAY_AMT5</th>\n",
       "      <td>0.000652</td>\n",
       "      <td>0.217202</td>\n",
       "      <td>-0.001667</td>\n",
       "      <td>-0.040358</td>\n",
       "      <td>-0.001205</td>\n",
       "      <td>0.022850</td>\n",
       "      <td>-0.058190</td>\n",
       "      <td>-0.037093</td>\n",
       "      <td>-0.035863</td>\n",
       "      <td>-0.033590</td>\n",
       "      <td>...</td>\n",
       "      <td>0.160433</td>\n",
       "      <td>0.141574</td>\n",
       "      <td>0.307729</td>\n",
       "      <td>0.148459</td>\n",
       "      <td>0.180908</td>\n",
       "      <td>0.159214</td>\n",
       "      <td>0.151830</td>\n",
       "      <td>1.000000</td>\n",
       "      <td>0.154896</td>\n",
       "      <td>-0.055124</td>\n",
       "    </tr>\n",
       "    <tr>\n",
       "      <th>PAY_AMT6</th>\n",
       "      <td>0.003000</td>\n",
       "      <td>0.219595</td>\n",
       "      <td>-0.002766</td>\n",
       "      <td>-0.037200</td>\n",
       "      <td>-0.006641</td>\n",
       "      <td>0.019478</td>\n",
       "      <td>-0.058673</td>\n",
       "      <td>-0.036500</td>\n",
       "      <td>-0.035861</td>\n",
       "      <td>-0.026565</td>\n",
       "      <td>...</td>\n",
       "      <td>0.177637</td>\n",
       "      <td>0.164184</td>\n",
       "      <td>0.115494</td>\n",
       "      <td>0.185735</td>\n",
       "      <td>0.157634</td>\n",
       "      <td>0.162740</td>\n",
       "      <td>0.157834</td>\n",
       "      <td>0.154896</td>\n",
       "      <td>1.000000</td>\n",
       "      <td>-0.053183</td>\n",
       "    </tr>\n",
       "    <tr>\n",
       "      <th>DEFAULT</th>\n",
       "      <td>-0.013952</td>\n",
       "      <td>-0.153520</td>\n",
       "      <td>-0.039961</td>\n",
       "      <td>0.028006</td>\n",
       "      <td>-0.024339</td>\n",
       "      <td>0.013890</td>\n",
       "      <td>0.324794</td>\n",
       "      <td>0.263551</td>\n",
       "      <td>0.235253</td>\n",
       "      <td>0.216614</td>\n",
       "      <td>...</td>\n",
       "      <td>-0.010156</td>\n",
       "      <td>-0.006760</td>\n",
       "      <td>-0.005372</td>\n",
       "      <td>-0.072929</td>\n",
       "      <td>-0.058579</td>\n",
       "      <td>-0.056250</td>\n",
       "      <td>-0.056827</td>\n",
       "      <td>-0.055124</td>\n",
       "      <td>-0.053183</td>\n",
       "      <td>1.000000</td>\n",
       "    </tr>\n",
       "  </tbody>\n",
       "</table>\n",
       "<p>25 rows × 25 columns</p>\n",
       "</div>"
      ],
      "text/plain": [
       "                 ID  LIMIT_BAL       SEX  EDUCATION  MARRIAGE       AGE  \\\n",
       "ID         1.000000   0.026179  0.018497   0.039177 -0.029079  0.018678   \n",
       "LIMIT_BAL  0.026179   1.000000  0.024755  -0.219161 -0.108139  0.144713   \n",
       "SEX        0.018497   0.024755  1.000000   0.014232 -0.031389 -0.090874   \n",
       "EDUCATION  0.039177  -0.219161  0.014232   1.000000 -0.143464  0.175061   \n",
       "MARRIAGE  -0.029079  -0.108139 -0.031389  -0.143464  1.000000 -0.414170   \n",
       "AGE        0.018678   0.144713 -0.090874   0.175061 -0.414170  1.000000   \n",
       "PAY_0     -0.030575  -0.271214 -0.057643   0.105364  0.019917 -0.039447   \n",
       "PAY_2     -0.011215  -0.296382 -0.070771   0.121566  0.024199 -0.050148   \n",
       "PAY_3     -0.018494  -0.286123 -0.066096   0.114025  0.032688 -0.053048   \n",
       "PAY_4     -0.002735  -0.267460 -0.060173   0.108793  0.033122 -0.049722   \n",
       "PAY_5     -0.022199  -0.249411 -0.055064   0.097520  0.035629 -0.053826   \n",
       "PAY_6     -0.020270  -0.235195 -0.044008   0.082316  0.034345 -0.048773   \n",
       "BILL_AMT1  0.019389   0.285430 -0.033642   0.023581 -0.023472  0.056239   \n",
       "BILL_AMT2  0.017982   0.278314 -0.031183   0.018749 -0.021602  0.054283   \n",
       "BILL_AMT3  0.024354   0.283236 -0.024563   0.013002 -0.024909  0.053710   \n",
       "BILL_AMT4  0.040351   0.293988 -0.021880  -0.000451 -0.023344  0.051353   \n",
       "BILL_AMT5  0.016705   0.295562 -0.017005  -0.007567 -0.025393  0.049345   \n",
       "BILL_AMT6  0.016730   0.290389 -0.016733  -0.009099 -0.021207  0.047613   \n",
       "PAY_AMT1   0.009742   0.195236 -0.000242  -0.037456 -0.005979  0.026147   \n",
       "PAY_AMT2   0.008406   0.178408 -0.001391  -0.030038 -0.008093  0.021785   \n",
       "PAY_AMT3   0.039151   0.210167 -0.008597  -0.039943 -0.003541  0.029247   \n",
       "PAY_AMT4   0.007793   0.203242 -0.002229  -0.038218 -0.012659  0.021379   \n",
       "PAY_AMT5   0.000652   0.217202 -0.001667  -0.040358 -0.001205  0.022850   \n",
       "PAY_AMT6   0.003000   0.219595 -0.002766  -0.037200 -0.006641  0.019478   \n",
       "DEFAULT   -0.013952  -0.153520 -0.039961   0.028006 -0.024339  0.013890   \n",
       "\n",
       "              PAY_0     PAY_2     PAY_3     PAY_4  ...  BILL_AMT4  BILL_AMT5  \\\n",
       "ID        -0.030575 -0.011215 -0.018494 -0.002735  ...   0.040351   0.016705   \n",
       "LIMIT_BAL -0.271214 -0.296382 -0.286123 -0.267460  ...   0.293988   0.295562   \n",
       "SEX       -0.057643 -0.070771 -0.066096 -0.060173  ...  -0.021880  -0.017005   \n",
       "EDUCATION  0.105364  0.121566  0.114025  0.108793  ...  -0.000451  -0.007567   \n",
       "MARRIAGE   0.019917  0.024199  0.032688  0.033122  ...  -0.023344  -0.025393   \n",
       "AGE       -0.039447 -0.050148 -0.053048 -0.049722  ...   0.051353   0.049345   \n",
       "PAY_0      1.000000  0.672164  0.574245  0.538841  ...   0.179125   0.180635   \n",
       "PAY_2      0.672164  1.000000  0.766552  0.662067  ...   0.222237   0.221348   \n",
       "PAY_3      0.574245  0.766552  1.000000  0.777359  ...   0.227202   0.225145   \n",
       "PAY_4      0.538841  0.662067  0.777359  1.000000  ...   0.245917   0.242902   \n",
       "PAY_5      0.509426  0.622780  0.686775  0.819835  ...   0.271915   0.269783   \n",
       "PAY_6      0.474553  0.575501  0.632684  0.716449  ...   0.266356   0.290894   \n",
       "BILL_AMT1  0.187068  0.234887  0.208473  0.202812  ...   0.860272   0.829779   \n",
       "BILL_AMT2  0.189859  0.235257  0.237295  0.225816  ...   0.892482   0.859778   \n",
       "BILL_AMT3  0.179785  0.224146  0.227494  0.244983  ...   0.923969   0.883910   \n",
       "BILL_AMT4  0.179125  0.222237  0.227202  0.245917  ...   1.000000   0.940134   \n",
       "BILL_AMT5  0.180635  0.221348  0.225145  0.242902  ...   0.940134   1.000000   \n",
       "BILL_AMT6  0.176980  0.219403  0.222327  0.239154  ...   0.900941   0.946197   \n",
       "PAY_AMT1  -0.079269 -0.080701  0.001295 -0.009362  ...   0.233012   0.217031   \n",
       "PAY_AMT2  -0.070101 -0.058990 -0.066793 -0.001944  ...   0.207564   0.181246   \n",
       "PAY_AMT3  -0.070561 -0.055901 -0.053311 -0.069235  ...   0.300023   0.252305   \n",
       "PAY_AMT4  -0.064005 -0.046858 -0.046067 -0.043461  ...   0.130191   0.293118   \n",
       "PAY_AMT5  -0.058190 -0.037093 -0.035863 -0.033590  ...   0.160433   0.141574   \n",
       "PAY_AMT6  -0.058673 -0.036500 -0.035861 -0.026565  ...   0.177637   0.164184   \n",
       "DEFAULT    0.324794  0.263551  0.235253  0.216614  ...  -0.010156  -0.006760   \n",
       "\n",
       "           BILL_AMT6  PAY_AMT1  PAY_AMT2  PAY_AMT3  PAY_AMT4  PAY_AMT5  \\\n",
       "ID          0.016730  0.009742  0.008406  0.039151  0.007793  0.000652   \n",
       "LIMIT_BAL   0.290389  0.195236  0.178408  0.210167  0.203242  0.217202   \n",
       "SEX        -0.016733 -0.000242 -0.001391 -0.008597 -0.002229 -0.001667   \n",
       "EDUCATION  -0.009099 -0.037456 -0.030038 -0.039943 -0.038218 -0.040358   \n",
       "MARRIAGE   -0.021207 -0.005979 -0.008093 -0.003541 -0.012659 -0.001205   \n",
       "AGE         0.047613  0.026147  0.021785  0.029247  0.021379  0.022850   \n",
       "PAY_0       0.176980 -0.079269 -0.070101 -0.070561 -0.064005 -0.058190   \n",
       "PAY_2       0.219403 -0.080701 -0.058990 -0.055901 -0.046858 -0.037093   \n",
       "PAY_3       0.222327  0.001295 -0.066793 -0.053311 -0.046067 -0.035863   \n",
       "PAY_4       0.239154 -0.009362 -0.001944 -0.069235 -0.043461 -0.033590   \n",
       "PAY_5       0.262509 -0.006089 -0.003191  0.009062 -0.058299 -0.033337   \n",
       "PAY_6       0.285091 -0.001496 -0.005223  0.005834  0.019018 -0.046434   \n",
       "BILL_AMT1   0.802650  0.140277  0.099355  0.156887  0.158303  0.167026   \n",
       "BILL_AMT2   0.831594  0.280365  0.100851  0.150718  0.147398  0.157957   \n",
       "BILL_AMT3   0.853320  0.244335  0.316936  0.130011  0.143405  0.179712   \n",
       "BILL_AMT4   0.900941  0.233012  0.207564  0.300023  0.130191  0.160433   \n",
       "BILL_AMT5   0.946197  0.217031  0.181246  0.252305  0.293118  0.141574   \n",
       "BILL_AMT6   1.000000  0.199965  0.172663  0.233770  0.250237  0.307729   \n",
       "PAY_AMT1    0.199965  1.000000  0.285576  0.252191  0.199558  0.148459   \n",
       "PAY_AMT2    0.172663  0.285576  1.000000  0.244770  0.180107  0.180908   \n",
       "PAY_AMT3    0.233770  0.252191  0.244770  1.000000  0.216325  0.159214   \n",
       "PAY_AMT4    0.250237  0.199558  0.180107  0.216325  1.000000  0.151830   \n",
       "PAY_AMT5    0.307729  0.148459  0.180908  0.159214  0.151830  1.000000   \n",
       "PAY_AMT6    0.115494  0.185735  0.157634  0.162740  0.157834  0.154896   \n",
       "DEFAULT    -0.005372 -0.072929 -0.058579 -0.056250 -0.056827 -0.055124   \n",
       "\n",
       "           PAY_AMT6   DEFAULT  \n",
       "ID         0.003000 -0.013952  \n",
       "LIMIT_BAL  0.219595 -0.153520  \n",
       "SEX       -0.002766 -0.039961  \n",
       "EDUCATION -0.037200  0.028006  \n",
       "MARRIAGE  -0.006641 -0.024339  \n",
       "AGE        0.019478  0.013890  \n",
       "PAY_0     -0.058673  0.324794  \n",
       "PAY_2     -0.036500  0.263551  \n",
       "PAY_3     -0.035861  0.235253  \n",
       "PAY_4     -0.026565  0.216614  \n",
       "PAY_5     -0.023027  0.204149  \n",
       "PAY_6     -0.025299  0.186866  \n",
       "BILL_AMT1  0.179341 -0.019644  \n",
       "BILL_AMT2  0.174256 -0.014193  \n",
       "BILL_AMT3  0.182326 -0.014076  \n",
       "BILL_AMT4  0.177637 -0.010156  \n",
       "BILL_AMT5  0.164184 -0.006760  \n",
       "BILL_AMT6  0.115494 -0.005372  \n",
       "PAY_AMT1   0.185735 -0.072929  \n",
       "PAY_AMT2   0.157634 -0.058579  \n",
       "PAY_AMT3   0.162740 -0.056250  \n",
       "PAY_AMT4   0.157834 -0.056827  \n",
       "PAY_AMT5   0.154896 -0.055124  \n",
       "PAY_AMT6   1.000000 -0.053183  \n",
       "DEFAULT   -0.053183  1.000000  \n",
       "\n",
       "[25 rows x 25 columns]"
      ]
     },
     "execution_count": 13,
     "metadata": {},
     "output_type": "execute_result"
    }
   ],
   "source": [
    "from pyspark.mllib.stat import Statistics\n",
    "import pandas as pd\n",
    "\n",
    "# result can be used w/ seaborn's heatmap\n",
    "def compute_correlation_matrix(cc, method='pearson'):\n",
    "    cc_rdd = cc.rdd.map(lambda row: row[0:])\n",
    "    corr_mat = Statistics.corr(cc_rdd, method=method)\n",
    "    corr_mat_df = pd.DataFrame(corr_mat,\n",
    "                    columns=cc.columns, \n",
    "                    index=cc.columns)\n",
    "    return corr_mat_df\n",
    "compute_correlation_matrix(cc)"
   ]
  },
  {
   "cell_type": "markdown",
   "metadata": {},
   "source": [
    "### Data Cleaning"
   ]
  },
  {
   "cell_type": "code",
   "execution_count": 14,
   "metadata": {},
   "outputs": [
    {
     "name": "stdout",
     "output_type": "stream",
     "text": [
      "+---+---------+---+---------+--------+---+-----+-----+-----+-----+-----+-----+---------+---------+---------+---------+---------+---------+--------+--------+--------+--------+--------+--------+-------+\n",
      "| ID|LIMIT_BAL|SEX|EDUCATION|MARRIAGE|AGE|PAY_0|PAY_2|PAY_3|PAY_4|PAY_5|PAY_6|BILL_AMT1|BILL_AMT2|BILL_AMT3|BILL_AMT4|BILL_AMT5|BILL_AMT6|PAY_AMT1|PAY_AMT2|PAY_AMT3|PAY_AMT4|PAY_AMT5|PAY_AMT6|DEFAULT|\n",
      "+---+---------+---+---------+--------+---+-----+-----+-----+-----+-----+-----+---------+---------+---------+---------+---------+---------+--------+--------+--------+--------+--------+--------+-------+\n",
      "|  0|        0|  0|        0|       0|  0|    0|    0|    0|    0|    0|    0|        0|        0|        0|        0|        0|        0|       0|       0|       0|       0|       0|       0|      0|\n",
      "+---+---------+---+---------+--------+---+-----+-----+-----+-----+-----+-----+---------+---------+---------+---------+---------+---------+--------+--------+--------+--------+--------+--------+-------+\n",
      "\n"
     ]
    }
   ],
   "source": [
    "from pyspark.sql.functions import *\n",
    "from pyspark.sql.functions import when, count, col\n",
    "cc.select([count(when(isnan(c) | col(c).isNull(), c)).alias(c) for c in cc.columns]).show()"
   ]
  },
  {
   "cell_type": "code",
   "execution_count": 15,
   "metadata": {},
   "outputs": [
    {
     "name": "stdout",
     "output_type": "stream",
     "text": [
      "+--------------------+--------------------+\n",
      "|            features|      scaledFeatures|\n",
      "+--------------------+--------------------+\n",
      "|[1.0,20000.0,2.0,...|[-1.7319642067123...|\n",
      "|[2.0,120000.0,2.0...|[-1.7318487385830...|\n",
      "|[3.0,90000.0,2.0,...|[-1.7317332704536...|\n",
      "|[4.0,50000.0,2.0,...|[-1.7316178023242...|\n",
      "|[5.0,50000.0,1.0,...|[-1.7315023341948...|\n",
      "+--------------------+--------------------+\n",
      "only showing top 5 rows\n",
      "\n"
     ]
    }
   ],
   "source": [
    "from pyspark.ml.linalg import Vectors\n",
    "from pyspark.ml.feature import VectorAssembler\n",
    "from pyspark.ml.feature import StandardScaler\n",
    "\n",
    "assembler = VectorAssembler(inputCols=['ID','LIMIT_BAL','SEX','EDUCATION','MARRIAGE','AGE','PAY_0','PAY_2','PAY_3','PAY_4',\n",
    "'PAY_5','PAY_6','BILL_AMT1','BILL_AMT2','BILL_AMT3','BILL_AMT4','BILL_AMT5','BILL_AMT6','PAY_AMT1','PAY_AMT1',\n",
    "'PAY_AMT2','PAY_AMT3','PAY_AMT4','PAY_AMT5','PAY_AMT6'], outputCol=\"features\")\n",
    "\n",
    "featuredcredit = assembler.transform(cc)\n",
    "\n",
    "scaler = StandardScaler(withMean=True, withStd=True, inputCol=\"features\", outputCol=\"scaledFeatures\")\n",
    "\n",
    "# Compute summary statistics by fitting the StandardScaler\n",
    "scalerModel = scaler.fit(featuredcredit)\n",
    "\n",
    "# Normalize each feature to have unit standard deviation.\n",
    "scaledcredit = scalerModel.transform(featuredcredit)\n",
    "scaledcredit.select([\"features\", \"scaledFeatures\"]).show(5)"
   ]
  },
  {
   "cell_type": "code",
   "execution_count": 16,
   "metadata": {},
   "outputs": [
    {
     "name": "stdout",
     "output_type": "stream",
     "text": [
      "+--------------------+-----+\n",
      "|            features|label|\n",
      "+--------------------+-----+\n",
      "|[-1.7319642067123...|    1|\n",
      "|[-1.7318487385830...|    1|\n",
      "|[-1.7317332704536...|    0|\n",
      "|[-1.7316178023242...|    0|\n",
      "|[-1.7315023341948...|    0|\n",
      "+--------------------+-----+\n",
      "only showing top 5 rows\n",
      "\n"
     ]
    }
   ],
   "source": [
    "renamecredit = scaledcredit.withColumnRenamed(\"DEFAULT\", \"label\")\n",
    "dataset = renamecredit.withColumn('features', renamecredit.scaledFeatures).select(\"features\",\"label\")\n",
    "dataset.show(5)"
   ]
  },
  {
   "cell_type": "markdown",
   "metadata": {},
   "source": [
    "### Model Training\n",
    "splitting data for train and test"
   ]
  },
  {
   "cell_type": "code",
   "execution_count": 17,
   "metadata": {},
   "outputs": [
    {
     "name": "stdout",
     "output_type": "stream",
     "text": [
      "Training Data Count: 23861\n",
      "Test Data Count: 6139\n"
     ]
    }
   ],
   "source": [
    "trainSet, testSet = dataset.randomSplit([0.8, 0.2], seed=12345)\n",
    "print(\"Training Data Count: \" + str(trainSet.count()))\n",
    "print(\"Test Data Count: \" + str(testSet.count()))"
   ]
  },
  {
   "cell_type": "code",
   "execution_count": 18,
   "metadata": {},
   "outputs": [
    {
     "name": "stdout",
     "output_type": "stream",
     "text": [
      "+-----+------------+\n",
      "|label|count(label)|\n",
      "+-----+------------+\n",
      "|    1|        5223|\n",
      "|    0|       18638|\n",
      "+-----+------------+\n",
      "\n"
     ]
    }
   ],
   "source": [
    "trainSet.groupby('label').agg({'label': 'count'}).show()"
   ]
  },
  {
   "cell_type": "code",
   "execution_count": 19,
   "metadata": {},
   "outputs": [
    {
     "name": "stdout",
     "output_type": "stream",
     "text": [
      "+-----+------------+\n",
      "|label|count(label)|\n",
      "+-----+------------+\n",
      "|    1|        1413|\n",
      "|    0|        4726|\n",
      "+-----+------------+\n",
      "\n"
     ]
    }
   ],
   "source": [
    "testSet.groupby('label').agg({'label': 'count'}).show()"
   ]
  },
  {
   "cell_type": "markdown",
   "metadata": {},
   "source": [
    "### Logistic Regression"
   ]
  },
  {
   "cell_type": "code",
   "execution_count": 20,
   "metadata": {},
   "outputs": [
    {
     "name": "stdout",
     "output_type": "stream",
     "text": [
      "Coefficients: [-0.014882308932141649,-0.10423533268075222,-0.04399276772820826,-0.0761765173576866,-0.09160106292155615,0.06562702327214429,0.6311601999462618,0.07814532056869669,0.1194173752643531,0.029330430094685136,0.016095109075138208,0.028697120946969853,-0.21873225248682548,-0.021898642225123135,0.012380036227823552,0.03386184159589726,0.06235662771304676,0.047096786967934796,-0.09940875681586178,-0.09940875681586178,-0.25284318318087234,-0.05494400827182839,-0.10818973104339918,-0.03249949117192905,-0.047589094682328005]\n",
      "Intercept: -1.4706375434773504\n",
      "Training accuracy:  0.8109886425547965\n",
      "Training set areaUnderROC for LR model: 0.7226037947790382\n"
     ]
    }
   ],
   "source": [
    "import matplotlib.pyplot as plt\n",
    "from pyspark.ml.classification import LogisticRegression\n",
    "lr = LogisticRegression(featuresCol = 'features', labelCol = 'label', maxIter=10)\n",
    "lrModel = lr.fit(trainSet)\n",
    "trainingSummary = lrModel.summary\n",
    "trainaccuracy = trainingSummary.accuracy\n",
    "print(\"Coefficients: %s\" % str(lrModel.coefficients))\n",
    "print(\"Intercept: %s\" % str(lrModel.intercept))\n",
    "trainingSummary = lrModel.summary\n",
    "print(\"Training accuracy: \",trainaccuracy)\n",
    "\n",
    "## ROC\n",
    "train_roc = trainingSummary.roc.toPandas()\n",
    "#plt.plot(train_roc['FPR'],train_roc['TPR'])\n",
    "#plt.ylabel('False Positive Rate')\n",
    "#plt.xlabel('True Positive Rate')\n",
    "#plt.title('ROC Curve')\n",
    "#plt.show()\n",
    "#trainingSummary.roc.show()\n",
    "print('Training set areaUnderROC for LR model: ' + str(trainingSummary.areaUnderROC))"
   ]
  },
  {
   "cell_type": "code",
   "execution_count": 21,
   "metadata": {},
   "outputs": [
    {
     "name": "stdout",
     "output_type": "stream",
     "text": [
      "+-----+----------+--------------------+\n",
      "|label|prediction|         probability|\n",
      "+-----+----------+--------------------+\n",
      "|    0|       0.0|[0.86966239763636...|\n",
      "|    0|       0.0|[0.82254479922521...|\n",
      "|    0|       0.0|[0.74479529855262...|\n",
      "|    0|       0.0|[0.71997203818794...|\n",
      "|    1|       0.0|[0.67956090930478...|\n",
      "+-----+----------+--------------------+\n",
      "only showing top 5 rows\n",
      "\n"
     ]
    }
   ],
   "source": [
    "predictions = lrModel.transform(testSet)\n",
    "predictions.select('label', 'prediction', 'probability').show(5)"
   ]
  },
  {
   "cell_type": "code",
   "execution_count": 22,
   "metadata": {},
   "outputs": [
    {
     "name": "stdout",
     "output_type": "stream",
     "text": [
      "Test areaUnderROC for LR model:  0.7297743670930633\n",
      "Test accuracy for LR model:  0.8035510669490145\n"
     ]
    }
   ],
   "source": [
    "from pyspark.ml.evaluation import BinaryClassificationEvaluator\n",
    "evaluator = lrModel.evaluate(testSet)\n",
    "bc_evaluator = BinaryClassificationEvaluator()\n",
    "test_roc = bc_evaluator.evaluate(predictions)\n",
    "print(\"Test areaUnderROC for LR model: \",test_roc)\n",
    "\n",
    "testaccuracy = evaluator.accuracy\n",
    "print(\"Test accuracy for LR model: \",testaccuracy)"
   ]
  },
  {
   "cell_type": "markdown",
   "metadata": {},
   "source": [
    "### Decision tree"
   ]
  },
  {
   "cell_type": "code",
   "execution_count": 23,
   "metadata": {},
   "outputs": [
    {
     "name": "stdout",
     "output_type": "stream",
     "text": [
      "+-----+----------+--------------------+\n",
      "|label|prediction|         probability|\n",
      "+-----+----------+--------------------+\n",
      "|    0|       0.0|[0.85783340965755...|\n",
      "|    0|       0.0|[0.85783340965755...|\n",
      "|    0|       0.0|[0.85783340965755...|\n",
      "|    0|       0.0|[0.63099921321793...|\n",
      "|    1|       0.0|[0.85783340965755...|\n",
      "+-----+----------+--------------------+\n",
      "only showing top 5 rows\n",
      "\n",
      "Test Area Under ROC for DT Model: 0.3142486385563711\n",
      "Test accuracy for DT Model:  0.8156051474181463\n"
     ]
    }
   ],
   "source": [
    "from pyspark.ml.classification import DecisionTreeClassifier\n",
    "from pyspark.ml.evaluation import MulticlassClassificationEvaluator\n",
    "dt = DecisionTreeClassifier(featuresCol = 'features', labelCol = 'label', maxDepth = 3)\n",
    "dtModel = dt.fit(trainSet)\n",
    "\n",
    "predictions = dtModel.transform(testSet)\n",
    "predictions.select('label', 'prediction', 'probability').show(5)\n",
    "\n",
    "evaluator = BinaryClassificationEvaluator()\n",
    "print(\"Test Area Under ROC for DT Model: \" + str(evaluator.evaluate(predictions, {evaluator.metricName: \"areaUnderROC\"})))\n",
    "test = MulticlassClassificationEvaluator(labelCol=\"label\", predictionCol=\"prediction\", metricName=\"accuracy\")\n",
    "testaccuracy = test.evaluate(predictions)\n",
    "print(\"Test accuracy for DT Model: \",testaccuracy )"
   ]
  },
  {
   "cell_type": "markdown",
   "metadata": {},
   "source": [
    "### Random Forest Classifier"
   ]
  },
  {
   "cell_type": "code",
   "execution_count": 24,
   "metadata": {},
   "outputs": [
    {
     "name": "stdout",
     "output_type": "stream",
     "text": [
      "+-----+----------+--------------------+\n",
      "|label|prediction|         probability|\n",
      "+-----+----------+--------------------+\n",
      "|    0|       0.0|[0.84517838311200...|\n",
      "|    0|       0.0|[0.83100455750613...|\n",
      "|    0|       0.0|[0.81113254009174...|\n",
      "|    0|       0.0|[0.68017136483636...|\n",
      "|    1|       0.0|[0.61369940231470...|\n",
      "+-----+----------+--------------------+\n",
      "only showing top 5 rows\n",
      "\n",
      "Test Area Under ROC for RF Model: 0.7731641588190671\n",
      "Test accuracy for RF Model:  0.8032252809903894\n"
     ]
    }
   ],
   "source": [
    "from pyspark.ml.classification import RandomForestClassifier\n",
    "rf = RandomForestClassifier(featuresCol = 'features', labelCol = 'label')\n",
    "rfModel = rf.fit(trainSet)\n",
    "\n",
    "predictions = rfModel.transform(testSet)\n",
    "predictions.select('label', 'prediction', 'probability').show(5)\n",
    "\n",
    "evaluator = BinaryClassificationEvaluator()\n",
    "print(\"Test Area Under ROC for RF Model: \" + str(evaluator.evaluate(predictions, {evaluator.metricName: \"areaUnderROC\"})))\n",
    "test = MulticlassClassificationEvaluator(labelCol=\"label\", predictionCol=\"prediction\", metricName=\"accuracy\")\n",
    "testaccuracy = test.evaluate(predictions)\n",
    "print(\"Test accuracy for RF Model: \",testaccuracy )"
   ]
  },
  {
   "cell_type": "markdown",
   "metadata": {},
   "source": [
    "### Gradient-boosted tree classifier"
   ]
  },
  {
   "cell_type": "code",
   "execution_count": 25,
   "metadata": {},
   "outputs": [
    {
     "name": "stdout",
     "output_type": "stream",
     "text": [
      "+-----+----------+--------------------+\n",
      "|label|prediction|         probability|\n",
      "+-----+----------+--------------------+\n",
      "|    0|       0.0|[0.84505419499510...|\n",
      "|    0|       0.0|[0.80797958430034...|\n",
      "|    0|       0.0|[0.75627550631435...|\n",
      "|    0|       0.0|[0.66030479155415...|\n",
      "|    1|       1.0|[0.47891818750627...|\n",
      "+-----+----------+--------------------+\n",
      "only showing top 5 rows\n",
      "\n",
      "Test Area Under ROC for GBT model: 0.7854768264818648\n",
      "Test accuracy for GBT model:  0.8152793614595211\n"
     ]
    }
   ],
   "source": [
    "from pyspark.ml import Pipeline\n",
    "from pyspark.ml.classification import GBTClassifier\n",
    "from pyspark.ml.feature import StringIndexer, VectorIndexer\n",
    "from pyspark.ml.evaluation import MulticlassClassificationEvaluator\n",
    "gbt = GBTClassifier(labelCol=\"label\", featuresCol=\"features\", maxIter=10)\n",
    "gbtModel = gbt.fit(trainSet)\n",
    "\n",
    "predictions = gbtModel.transform(testSet)\n",
    "predictions.select('label', 'prediction', 'probability').show(5)\n",
    "\n",
    "evaluator = BinaryClassificationEvaluator()\n",
    "print(\"Test Area Under ROC for GBT model: \" + str(evaluator.evaluate(predictions, {evaluator.metricName: \"areaUnderROC\"})))\n",
    "test = MulticlassClassificationEvaluator(labelCol=\"label\", predictionCol=\"prediction\", metricName=\"accuracy\")\n",
    "testaccuracy = test.evaluate(predictions)\n",
    "print(\"Test accuracy for GBT model: \",testaccuracy )"
   ]
  },
  {
   "cell_type": "markdown",
   "metadata": {},
   "source": [
    "### Data Cleaning"
   ]
  },
  {
   "cell_type": "code",
   "execution_count": 26,
   "metadata": {},
   "outputs": [
    {
     "name": "stdout",
     "output_type": "stream",
     "text": [
      "Before modifying\n",
      "+------------------------+\n",
      "|count(DISTINCT MARRIAGE)|\n",
      "+------------------------+\n",
      "|                       4|\n",
      "+------------------------+\n",
      "\n",
      "After modifying\n",
      "+------------------------+\n",
      "|count(DISTINCT MARRIAGE)|\n",
      "+------------------------+\n",
      "|                       3|\n",
      "+------------------------+\n",
      "\n"
     ]
    }
   ],
   "source": [
    "from pyspark.sql.functions import countDistinct\n",
    "from pyspark.sql import functions as F\n",
    "## Modifiying the Flaws in the MARRIAGE column\n",
    "print(\"Before modifying\" )\n",
    "cc.select(countDistinct('MARRIAGE')).show()\n",
    "print(\"After modifying\")\n",
    "res = cc.withColumn(\"MARRIAGE\", F.when(F.col(\"MARRIAGE\")==0, 3).otherwise(F.col(\"MARRIAGE\")))\n",
    "res.select(countDistinct('MARRIAGE')).show()"
   ]
  },
  {
   "cell_type": "code",
   "execution_count": 27,
   "metadata": {},
   "outputs": [
    {
     "name": "stdout",
     "output_type": "stream",
     "text": [
      "Before modifying\n",
      "+-------------------------+\n",
      "|count(DISTINCT EDUCATION)|\n",
      "+-------------------------+\n",
      "|                        7|\n",
      "+-------------------------+\n",
      "\n",
      "After modifying\n",
      "+-------------------------+\n",
      "|count(DISTINCT EDUCATION)|\n",
      "+-------------------------+\n",
      "|                        4|\n",
      "+-------------------------+\n",
      "\n"
     ]
    }
   ],
   "source": [
    "## Modifiying the Flaws in the EDUCATION column\n",
    "print(\"Before modifying\" )\n",
    "cc.select(countDistinct('EDUCATION')).show()\n",
    "print(\"After modifying\")\n",
    "res1 = res.withColumn('EDUCATION', F.when(F.col(\"EDUCATION\")==5, 4).otherwise(F.col(\"EDUCATION\"))).withColumn('EDUCATION', F.when(F.col(\"EDUCATION\")==6, 4).otherwise(F.col(\"EDUCATION\"))).withColumn('EDUCATION', F.when(F.col(\"EDUCATION\")==0, 4).otherwise(F.col(\"EDUCATION\")))\n",
    "res1.select(countDistinct('EDUCATION')).show()"
   ]
  },
  {
   "cell_type": "code",
   "execution_count": 28,
   "metadata": {},
   "outputs": [
    {
     "name": "stdout",
     "output_type": "stream",
     "text": [
      "Before modifying\n",
      "+-----+-----+\n",
      "|PAY_6|count|\n",
      "+-----+-----+\n",
      "|   -1| 5740|\n",
      "|    6|   19|\n",
      "|    3|  184|\n",
      "|    5|   13|\n",
      "|    4|   49|\n",
      "|    8|    2|\n",
      "|    7|   46|\n",
      "|   -2| 4895|\n",
      "|    2| 2766|\n",
      "|    0|16286|\n",
      "+-----+-----+\n",
      "\n",
      "After modifying\n",
      "+-----+-----+\n",
      "|PAY_6|count|\n",
      "+-----+-----+\n",
      "|    6|   19|\n",
      "|    3|  184|\n",
      "|    5|   13|\n",
      "|    4|   49|\n",
      "|    8|    2|\n",
      "|    7|   46|\n",
      "|    2| 2766|\n",
      "|    0|26921|\n",
      "+-----+-----+\n",
      "\n"
     ]
    }
   ],
   "source": [
    "##Modifiying the Flaws in the PAY_0 to PAY_6 column\n",
    "print(\"Before modifying\" )\n",
    "res1.groupBy('PAY_6').count().show()\n",
    "res2 = res1.withColumn('PAY_0', F.when(F.col(\"PAY_0\")==-2, 0).otherwise(F.col(\"PAY_0\"))).withColumn('PAY_0', F.when(F.col(\"PAY_0\")==-1, 0).otherwise(F.col(\"PAY_0\")))\n",
    "res3 = res2.withColumn('PAY_2', F.when(F.col(\"PAY_2\")==-2, 0).otherwise(F.col(\"PAY_2\"))).withColumn('PAY_2', F.when(F.col(\"PAY_2\")==-1, 0).otherwise(F.col(\"PAY_2\")))\n",
    "res4 = res3.withColumn('PAY_3', F.when(F.col(\"PAY_3\")==-2, 0).otherwise(F.col(\"PAY_3\"))).withColumn('PAY_3', F.when(F.col(\"PAY_3\")==-1, 0).otherwise(F.col(\"PAY_3\")))\n",
    "res5 = res4.withColumn('PAY_4', F.when(F.col(\"PAY_4\")==-2, 0).otherwise(F.col(\"PAY_4\"))).withColumn('PAY_4', F.when(F.col(\"PAY_4\")==-1, 0).otherwise(F.col(\"PAY_4\")))\n",
    "res6 = res5.withColumn('PAY_5', F.when(F.col(\"PAY_5\")==-2, 0).otherwise(F.col(\"PAY_5\"))).withColumn('PAY_5', F.when(F.col(\"PAY_5\")==-1, 0).otherwise(F.col(\"PAY_5\")))\n",
    "res7 = res6.withColumn('PAY_6', F.when(F.col(\"PAY_6\")==-2, 0).otherwise(F.col(\"PAY_6\"))).withColumn('PAY_6', F.when(F.col(\"PAY_6\")==-1, 0).otherwise(F.col(\"PAY_6\")))\n",
    "print(\"After modifying\")\n",
    "res7.groupBy('PAY_6').count().show()\n",
    "#res7.show(2)"
   ]
  },
  {
   "cell_type": "markdown",
   "metadata": {},
   "source": [
    "### Upsampling"
   ]
  },
  {
   "cell_type": "code",
   "execution_count": 75,
   "metadata": {},
   "outputs": [
    {
     "name": "stdout",
     "output_type": "stream",
     "text": [
      "+-------+--------------+\n",
      "|DEFAULT|count(DEFAULT)|\n",
      "+-------+--------------+\n",
      "|      1|          6636|\n",
      "|      0|         23364|\n",
      "+-------+--------------+\n",
      "\n"
     ]
    }
   ],
   "source": [
    "res7.groupby('DEFAULT').agg({'DEFAULT': 'count'}).show()"
   ]
  },
  {
   "cell_type": "code",
   "execution_count": 95,
   "metadata": {},
   "outputs": [],
   "source": [
    "from pyspark.sql.functions import col\n",
    "\n",
    "res8 = res7.where(col('DEFAULT')==1).sample(True, 3.552, seed = 1000)"
   ]
  },
  {
   "cell_type": "code",
   "execution_count": 96,
   "metadata": {},
   "outputs": [
    {
     "name": "stdout",
     "output_type": "stream",
     "text": [
      "+-------+--------------+\n",
      "|DEFAULT|count(DEFAULT)|\n",
      "+-------+--------------+\n",
      "|      1|         23617|\n",
      "+-------+--------------+\n",
      "\n"
     ]
    }
   ],
   "source": [
    "res8.groupby('DEFAULT').agg({'DEFAULT': 'count'}).show()"
   ]
  },
  {
   "cell_type": "code",
   "execution_count": 103,
   "metadata": {},
   "outputs": [],
   "source": [
    "res9= res7.where(col('DEFAULT')==0)\n",
    "resUp = res9.union(res8)"
   ]
  },
  {
   "cell_type": "code",
   "execution_count": 126,
   "metadata": {},
   "outputs": [
    {
     "name": "stdout",
     "output_type": "stream",
     "text": [
      "+-------+-----+\n",
      "|DEFAULT|count|\n",
      "+-------+-----+\n",
      "|      1|23617|\n",
      "|      0|23364|\n",
      "+-------+-----+\n",
      "\n"
     ]
    }
   ],
   "source": [
    "resUp.groupBy('DEFAULT').count().show()"
   ]
  },
  {
   "cell_type": "code",
   "execution_count": 107,
   "metadata": {},
   "outputs": [
    {
     "data": {
      "text/plain": [
       "46981"
      ]
     },
     "execution_count": 107,
     "metadata": {},
     "output_type": "execute_result"
    }
   ],
   "source": [
    "resUp.count()"
   ]
  },
  {
   "cell_type": "code",
   "execution_count": 129,
   "metadata": {},
   "outputs": [
    {
     "name": "stdout",
     "output_type": "stream",
     "text": [
      "+---+---------+---+---------+--------+---+-----+-----+-----+-----+-----+-----+---------+---------+---------+---------+---------+---------+--------+--------+--------+--------+--------+--------+-------+\n",
      "| ID|LIMIT_BAL|SEX|EDUCATION|MARRIAGE|AGE|PAY_0|PAY_2|PAY_3|PAY_4|PAY_5|PAY_6|BILL_AMT1|BILL_AMT2|BILL_AMT3|BILL_AMT4|BILL_AMT5|BILL_AMT6|PAY_AMT1|PAY_AMT2|PAY_AMT3|PAY_AMT4|PAY_AMT5|PAY_AMT6|DEFAULT|\n",
      "+---+---------+---+---------+--------+---+-----+-----+-----+-----+-----+-----+---------+---------+---------+---------+---------+---------+--------+--------+--------+--------+--------+--------+-------+\n",
      "|  3|    90000|  2|        2|       2| 34|    0|    0|    0|    0|    0|    0|    29239|    14027|    13559|    14331|    14948|    15549|    1518|    1500|    1000|    1000|    1000|    5000|      0|\n",
      "|  4|    50000|  2|        2|       1| 37|    0|    0|    0|    0|    0|    0|    46990|    48233|    49291|    28314|    28959|    29547|    2000|    2019|    1200|    1100|    1069|    1000|      0|\n",
      "|  5|    50000|  1|        2|       1| 57|    0|    0|    0|    0|    0|    0|     8617|     5670|    35835|    20940|    19146|    19131|    2000|   36681|   10000|    9000|     689|     679|      0|\n",
      "|  6|    50000|  1|        1|       2| 37|    0|    0|    0|    0|    0|    0|    64400|    57069|    57608|    19394|    19619|    20024|    2500|    1815|     657|    1000|    1000|     800|      0|\n",
      "|  7|   500000|  1|        1|       2| 29|    0|    0|    0|    0|    0|    0|   367965|   412023|   445007|   542653|   483003|   473944|   55000|   40000|   38000|   20239|   13750|   13770|      0|\n",
      "+---+---------+---+---------+--------+---+-----+-----+-----+-----+-----+-----+---------+---------+---------+---------+---------+---------+--------+--------+--------+--------+--------+--------+-------+\n",
      "only showing top 5 rows\n",
      "\n"
     ]
    }
   ],
   "source": [
    "resUp.show(5)"
   ]
  },
  {
   "cell_type": "markdown",
   "metadata": {},
   "source": [
    "### Scaling"
   ]
  },
  {
   "cell_type": "code",
   "execution_count": 109,
   "metadata": {},
   "outputs": [
    {
     "name": "stdout",
     "output_type": "stream",
     "text": [
      "+--------------------+--------------------+\n",
      "|            features|      scaledFeatures|\n",
      "+--------------------+--------------------+\n",
      "|[90000.0,2.0,2.0,...|[-0.5084569171350...|\n",
      "|[50000.0,2.0,2.0,...|[-0.8253636123811...|\n",
      "|[50000.0,1.0,2.0,...|[-0.8253636123811...|\n",
      "|[50000.0,1.0,1.0,...|[-0.8253636123811...|\n",
      "|[500000.0,1.0,1.0...|[2.73983670913821...|\n",
      "+--------------------+--------------------+\n",
      "only showing top 5 rows\n",
      "\n"
     ]
    }
   ],
   "source": [
    "assembler1 = VectorAssembler(inputCols=['LIMIT_BAL','SEX','EDUCATION','MARRIAGE','AGE','PAY_0','PAY_2','PAY_3','PAY_4',\n",
    "'PAY_5','PAY_6','BILL_AMT1','BILL_AMT2','BILL_AMT3','BILL_AMT4','BILL_AMT5','BILL_AMT6','PAY_AMT1','PAY_AMT1',\n",
    "'PAY_AMT2','PAY_AMT3','PAY_AMT4','PAY_AMT5','PAY_AMT6'], outputCol=\"features\")\n",
    "\n",
    "new_featuredcredit = assembler1.transform(resUp)\n",
    "\n",
    "new_scaler = StandardScaler(withMean=True, withStd=True, inputCol=\"features\", outputCol=\"scaledFeatures\")\n",
    "\n",
    "# Compute summary statistics by fitting the StandardScaler\n",
    "new_scalerModel = new_scaler.fit(new_featuredcredit)\n",
    "\n",
    "# Normalize each feature to have unit standard deviation.\n",
    "new_scaledcredit = new_scalerModel.transform(new_featuredcredit)\n",
    "new_scaledcredit.select([\"features\", \"scaledFeatures\"]).show(5)"
   ]
  },
  {
   "cell_type": "code",
   "execution_count": 110,
   "metadata": {},
   "outputs": [
    {
     "name": "stdout",
     "output_type": "stream",
     "text": [
      "+--------------------+-----+\n",
      "|            features|label|\n",
      "+--------------------+-----+\n",
      "|[-0.5084569171350...|    0|\n",
      "|[-0.8253636123811...|    0|\n",
      "|[-0.8253636123811...|    0|\n",
      "|[-0.8253636123811...|    0|\n",
      "|[2.73983670913821...|    0|\n",
      "+--------------------+-----+\n",
      "only showing top 5 rows\n",
      "\n"
     ]
    }
   ],
   "source": [
    "rename1credit = new_scaledcredit.withColumnRenamed(\"DEFAULT\", \"label\")\n",
    "new_dataset = rename1credit.withColumn('features', rename1credit.scaledFeatures).select(\"features\",\"label\")\n",
    "new_dataset.show(5)"
   ]
  },
  {
   "cell_type": "code",
   "execution_count": 111,
   "metadata": {},
   "outputs": [
    {
     "name": "stdout",
     "output_type": "stream",
     "text": [
      "Training Data Count: 37486\n",
      "Test Data Count: 9495\n"
     ]
    }
   ],
   "source": [
    "trainData, testData = new_dataset.randomSplit([0.8, 0.2], seed=12345)\n",
    "print(\"Training Data Count: \" + str(trainData.count()))\n",
    "print(\"Test Data Count: \" + str(testData.count()))"
   ]
  },
  {
   "cell_type": "code",
   "execution_count": 127,
   "metadata": {},
   "outputs": [
    {
     "name": "stdout",
     "output_type": "stream",
     "text": [
      "+-----+------------+\n",
      "|label|count(label)|\n",
      "+-----+------------+\n",
      "|    1|       18861|\n",
      "|    0|       18625|\n",
      "+-----+------------+\n",
      "\n"
     ]
    }
   ],
   "source": [
    "trainData.groupby('label').agg({'label': 'count'}).show()"
   ]
  },
  {
   "cell_type": "code",
   "execution_count": 128,
   "metadata": {},
   "outputs": [
    {
     "name": "stdout",
     "output_type": "stream",
     "text": [
      "+-----+------------+\n",
      "|label|count(label)|\n",
      "+-----+------------+\n",
      "|    1|        4756|\n",
      "|    0|        4739|\n",
      "+-----+------------+\n",
      "\n"
     ]
    }
   ],
   "source": [
    "testData.groupby('label').agg({'label': 'count'}).show()"
   ]
  },
  {
   "cell_type": "markdown",
   "metadata": {},
   "source": [
    "### Logistic Regression"
   ]
  },
  {
   "cell_type": "code",
   "execution_count": 120,
   "metadata": {},
   "outputs": [
    {
     "name": "stdout",
     "output_type": "stream",
     "text": [
      "Coefficients: [-0.18402566768206807,-0.045263511891231345,-0.0499133441399052,-0.061679278181662356,0.05645264902547603,0.832075589083554,0.08915184829920111,0.12051287618677695,0.09229375296997767,0.09394689555621283,0.1533515456879479,-0.01969513232957178,0.04237145302050489,0.019365917839077665,0.014667586243851134,-0.00821441302037695,-0.0025385876417177073,-0.06569602729814221,-0.06569602729814221,-0.13451367101327508,-0.03638774672882685,-0.05141082358634954,-0.04372935701121444,-0.014382689750708163]\n",
      "Intercept: 0.14108793168512\n",
      "Training accuracy:  0.701141759590247\n",
      "Training set areaUnderROC for Lr Model: 0.7607091583819316\n",
      "+-----+----------+--------------------+\n",
      "|label|prediction|         probability|\n",
      "+-----+----------+--------------------+\n",
      "|    0|       0.0|[0.58333139055280...|\n",
      "|    0|       0.0|[0.58561830672272...|\n",
      "|    0|       1.0|[0.20043934776592...|\n",
      "|    0|       1.0|[0.39504787453140...|\n",
      "|    0|       0.0|[0.58201600120321...|\n",
      "+-----+----------+--------------------+\n",
      "only showing top 5 rows\n",
      "\n",
      "Test areaUnderROC for Lr Model:  0.7614287506759508\n",
      "Test accuracy for Lr Model:  0.6966824644549763\n",
      "total time to train_model = 8.005983352661133\n"
     ]
    }
   ],
   "source": [
    "from time import *\n",
    "start_time= time()\n",
    "lr = LogisticRegression(featuresCol = 'features', labelCol = 'label', maxIter=10)\n",
    "lrModel = lr.fit(trainData)\n",
    "trainaccuracy = trainingSummary.accuracy\n",
    "print(\"Coefficients: %s\" % str(lrModel.coefficients))\n",
    "print(\"Intercept: %s\" % str(lrModel.intercept))\n",
    "trainingSummary = lrModel.summary\n",
    "print(\"Training accuracy: \",trainaccuracy)\n",
    "\n",
    "\n",
    "train_roc = trainingSummary.roc.toPandas()\n",
    "#plt.plot(train_roc['FPR'],train_roc['TPR'])\n",
    "#plt.ylabel('False Positive Rate')\n",
    "#plt.xlabel('True Positive Rate')\n",
    "#plt.title('ROC Curve')\n",
    "#plt.show()\n",
    "#trainingSummary.roc.show()\n",
    "\n",
    "print('Training set areaUnderROC for Lr Model: ' + str(trainingSummary.areaUnderROC))\n",
    "\n",
    "predictions = lrModel.transform(testData)\n",
    "predictions.select('label', 'prediction', 'probability').show(5)\n",
    "\n",
    "\n",
    "evaluator = lrModel.evaluate(testData)\n",
    "bc_evaluator = BinaryClassificationEvaluator()\n",
    "test_roc = bc_evaluator.evaluate(predictions)\n",
    "print(\"Test areaUnderROC for Lr Model: \",test_roc)\n",
    "\n",
    "testaccuracy = evaluator.accuracy\n",
    "print(\"Test accuracy for Lr Model: \",testaccuracy)\n",
    "end_time= time()\n",
    "elapsed_time= end_time - start_time\n",
    "print(\"total time to train_model =\", elapsed_time)"
   ]
  },
  {
   "cell_type": "markdown",
   "metadata": {},
   "source": [
    "### Decision tree"
   ]
  },
  {
   "cell_type": "code",
   "execution_count": 121,
   "metadata": {},
   "outputs": [
    {
     "name": "stdout",
     "output_type": "stream",
     "text": [
      "+-----+----------+--------------------+\n",
      "|label|prediction|         probability|\n",
      "+-----+----------+--------------------+\n",
      "|    0|       0.0|[0.57038961038961...|\n",
      "|    0|       0.0|[0.57038961038961...|\n",
      "|    0|       1.0|[0.39007960808328...|\n",
      "|    0|       1.0|[0.39007960808328...|\n",
      "|    0|       0.0|[0.57038961038961...|\n",
      "+-----+----------+--------------------+\n",
      "only showing top 5 rows\n",
      "\n",
      "Test Area Under ROC for Dt Model: 0.6326805061023083\n",
      "Test accuracy for Dt Model:  0.6934175882043181\n",
      "total time to train_model = 6.606166124343872\n"
     ]
    }
   ],
   "source": [
    "from time import *\n",
    "start_time= time()\n",
    "dt = DecisionTreeClassifier(featuresCol = 'features', labelCol = 'label', maxDepth = 3)\n",
    "dtModel = dt.fit(trainData)\n",
    "\n",
    "predictions = dtModel.transform(testData)\n",
    "predictions.select('label', 'prediction', 'probability').show(5)\n",
    "\n",
    "evaluator = BinaryClassificationEvaluator()\n",
    "print(\"Test Area Under ROC for Dt Model: \" + str(evaluator.evaluate(predictions, {evaluator.metricName: \"areaUnderROC\"})))\n",
    "test = MulticlassClassificationEvaluator(labelCol=\"label\", predictionCol=\"prediction\", metricName=\"accuracy\")\n",
    "testaccuracy = test.evaluate(predictions)\n",
    "print(\"Test accuracy for Dt Model: \",testaccuracy )\n",
    "end_time= time()\n",
    "elapsed_time= end_time - start_time\n",
    "print(\"total time to train_model =\", elapsed_time)"
   ]
  },
  {
   "cell_type": "markdown",
   "metadata": {},
   "source": [
    "### Random Forest Classifier"
   ]
  },
  {
   "cell_type": "code",
   "execution_count": 122,
   "metadata": {},
   "outputs": [
    {
     "name": "stdout",
     "output_type": "stream",
     "text": [
      "+-----+----------+--------------------+\n",
      "|label|prediction|         probability|\n",
      "+-----+----------+--------------------+\n",
      "|    0|       0.0|[0.55245233091023...|\n",
      "|    0|       0.0|[0.58397082491319...|\n",
      "|    0|       1.0|[0.28273130902425...|\n",
      "|    0|       1.0|[0.29257624088055...|\n",
      "|    0|       0.0|[0.58397082491319...|\n",
      "+-----+----------+--------------------+\n",
      "only showing top 5 rows\n",
      "\n",
      "Test Area Under ROC for RF Model: 0.7696167398238515\n",
      "Test accuracy for RF Model:  0.7057398630858347\n",
      "total time to train_model = 8.496789693832397\n"
     ]
    }
   ],
   "source": [
    "from time import *\n",
    "start_time= time()\n",
    "rf = RandomForestClassifier(featuresCol = 'features', labelCol = 'label')\n",
    "rfModel = rf.fit(trainData)\n",
    "\n",
    "predictions = rfModel.transform(testData)\n",
    "predictions.select('label', 'prediction', 'probability').show(5)\n",
    "\n",
    "evaluator = BinaryClassificationEvaluator()\n",
    "print(\"Test Area Under ROC for RF Model: \" + str(evaluator.evaluate(predictions, {evaluator.metricName: \"areaUnderROC\"})))\n",
    "test = MulticlassClassificationEvaluator(labelCol=\"label\", predictionCol=\"prediction\", metricName=\"accuracy\")\n",
    "testaccuracy = test.evaluate(predictions)\n",
    "print(\"Test accuracy for RF Model: \",testaccuracy )\n",
    "end_time= time()\n",
    "elapsed_time= end_time - start_time\n",
    "print(\"total time to train_model =\", elapsed_time)"
   ]
  },
  {
   "cell_type": "markdown",
   "metadata": {},
   "source": [
    "### Gradient-boosted tree classifier"
   ]
  },
  {
   "cell_type": "code",
   "execution_count": 123,
   "metadata": {},
   "outputs": [
    {
     "name": "stdout",
     "output_type": "stream",
     "text": [
      "+-----+----------+--------------------+\n",
      "|label|prediction|         probability|\n",
      "+-----+----------+--------------------+\n",
      "|    0|       0.0|[0.51900917223155...|\n",
      "|    0|       0.0|[0.52788728329705...|\n",
      "|    0|       1.0|[0.19602352228908...|\n",
      "|    0|       1.0|[0.21026664781771...|\n",
      "|    0|       0.0|[0.53620297633958...|\n",
      "+-----+----------+--------------------+\n",
      "only showing top 5 rows\n",
      "\n",
      "Test Area Under ROC for GBT Model: 0.7870400729696544\n",
      "Test accuracy for GBT Model:  0.7080568720379147\n",
      "total time to train_model = 13.787724494934082\n"
     ]
    }
   ],
   "source": [
    "from pyspark.ml import Pipeline\n",
    "from pyspark.ml.classification import GBTClassifier\n",
    "from pyspark.ml.feature import StringIndexer, VectorIndexer\n",
    "from pyspark.ml.evaluation import MulticlassClassificationEvaluator\n",
    "from time import *\n",
    "start_time= time()\n",
    "gbt = GBTClassifier(labelCol=\"label\", featuresCol=\"features\", maxIter=10)\n",
    "gbtModel = gbt.fit(trainData)\n",
    "\n",
    "predictions = gbtModel.transform(testData)\n",
    "predictions.select('label', 'prediction', 'probability').show(5)\n",
    "\n",
    "evaluator = BinaryClassificationEvaluator()\n",
    "print(\"Test Area Under ROC for GBT Model: \" + str(evaluator.evaluate(predictions, {evaluator.metricName: \"areaUnderROC\"})))\n",
    "test = MulticlassClassificationEvaluator(labelCol=\"label\", predictionCol=\"prediction\", metricName=\"accuracy\")\n",
    "testaccuracy = test.evaluate(predictions)\n",
    "print(\"Test accuracy for GBT Model: \",testaccuracy )\n",
    "end_time= time()\n",
    "elapsed_time= end_time - start_time\n",
    "print(\"total time to train_model =\", elapsed_time)"
   ]
  },
  {
   "cell_type": "markdown",
   "metadata": {},
   "source": [
    "### Model selection"
   ]
  },
  {
   "cell_type": "code",
   "execution_count": 124,
   "metadata": {},
   "outputs": [
    {
     "name": "stdout",
     "output_type": "stream",
     "text": [
      "+-----+----------+--------------------+\n",
      "|label|prediction|         probability|\n",
      "+-----+----------+--------------------+\n",
      "|    0|       0.0|[0.53971904483744...|\n",
      "|    0|       0.0|[0.58221902640167...|\n",
      "|    0|       1.0|[0.20564538962397...|\n",
      "|    0|       1.0|[0.27223174106691...|\n",
      "|    0|       0.0|[0.58221902640167...|\n",
      "+-----+----------+--------------------+\n",
      "only showing top 5 rows\n",
      "\n",
      "Test_roc for RF Model: 0.7648114459566495\n",
      "Test accuracy for RF Model:  0.7025803054239074\n",
      "total time to train_model = 140.38608646392822\n"
     ]
    }
   ],
   "source": [
    "## MOdel selection for random forest\n",
    "\n",
    "from pyspark.ml import Pipeline\n",
    "from pyspark.ml.classification import RandomForestClassifier\n",
    "from pyspark.ml.evaluation import BinaryClassificationEvaluator\n",
    "from pyspark.ml.tuning import CrossValidator, ParamGridBuilder\n",
    "from time import *\n",
    "start_time= time()\n",
    "\n",
    "rf1 = RandomForestClassifier(labelCol=\"label\", featuresCol=\"features\", numTrees= 8)\n",
    "pipeline = Pipeline(stages=[rf1])\n",
    "paramGrid = ParamGridBuilder()\\\n",
    "                .addGrid(rf1.maxDepth, [1, 2, 4, 5])\\\n",
    "                .addGrid(rf1.minInstancesPerNode, [1, 2, 4, 5])\\\n",
    "                .build()\n",
    "\n",
    "crossval = CrossValidator(estimator=pipeline,\n",
    "                          estimatorParamMaps=paramGrid,\n",
    "                          evaluator=BinaryClassificationEvaluator(),\n",
    "                          numFolds=5) \n",
    "\n",
    "cvModel = crossval.fit(trainData)\n",
    "#evaluator.evaluate(cvModel.transform(trainData))\n",
    "\n",
    "predictions1 = cvModel.transform(testData)\n",
    "predictions1.select('label', 'prediction', 'probability').show(5)\n",
    "\n",
    "bc_evaluator = BinaryClassificationEvaluator()\n",
    "test_roc = bc_evaluator.evaluate(predictions1, {bc_evaluator.metricName: \"areaUnderROC\"})\n",
    "evaluator = MulticlassClassificationEvaluator(labelCol=\"label\", predictionCol=\"prediction\", metricName=\"accuracy\")\n",
    "testaccuracy = evaluator.evaluate(predictions1)\n",
    "print(\"Test_roc for RF Model:\",test_roc)\n",
    "print(\"Test accuracy for RF Model: \",testaccuracy )\n",
    "end_time= time()\n",
    "elapsed_time= end_time - start_time\n",
    "print(\"total time to train_model =\", elapsed_time)"
   ]
  },
  {
   "cell_type": "code",
   "execution_count": 125,
   "metadata": {
    "scrolled": true
   },
   "outputs": [
    {
     "name": "stdout",
     "output_type": "stream",
     "text": [
      "+-----+----------+--------------------+\n",
      "|label|prediction|         probability|\n",
      "+-----+----------+--------------------+\n",
      "|    0|       0.0|[0.58164445982028...|\n",
      "|    0|       0.0|[0.58417912501184...|\n",
      "|    0|       1.0|[0.20150973215139...|\n",
      "|    0|       1.0|[0.38431413820671...|\n",
      "|    0|       0.0|[0.58093667101223...|\n",
      "+-----+----------+--------------------+\n",
      "only showing top 5 rows\n",
      "\n",
      "Test_roc For LR Model: 0.7620161851508245\n",
      "Test accuracy For LR Model:  0.6983675618746709\n",
      "total time to train_model = 26.41662573814392\n"
     ]
    }
   ],
   "source": [
    "# Model selection for Logistic regression\n",
    "from time import *\n",
    "start_time= time()\n",
    "paramGrid = ParamGridBuilder() \\\n",
    "    .addGrid(lr.regParam, [0.1, 0.01]) \\\n",
    "    .build()\n",
    "\n",
    "crossval = CrossValidator(estimator=lr,\n",
    "                          estimatorParamMaps=paramGrid,\n",
    "                          evaluator=BinaryClassificationEvaluator(),\n",
    "                          numFolds=5)  # use 3+ folds in practice\n",
    "\n",
    "# Run cross-validation, and choose the best set of parameters.\n",
    "cvModel = crossval.fit(trainData)\n",
    "\n",
    "predictions = cvModel.transform(testData)\n",
    "predictions.select('label', 'prediction', 'probability').show(5)\n",
    "\n",
    "\n",
    "bc_evaluator = BinaryClassificationEvaluator()\n",
    "test_roc = bc_evaluator.evaluate(predictions, {bc_evaluator.metricName: \"areaUnderROC\"})\n",
    "evaluator = MulticlassClassificationEvaluator(labelCol=\"label\", predictionCol=\"prediction\", metricName=\"accuracy\")\n",
    "testaccuracy = evaluator.evaluate(predictions)\n",
    "print(\"Test_roc For LR Model:\",test_roc)\n",
    "print(\"Test accuracy For LR Model: \",testaccuracy )\n",
    "end_time= time()\n",
    "elapsed_time= end_time - start_time\n",
    "print(\"total time to train_model =\", elapsed_time)"
   ]
  }
 ],
 "metadata": {
  "kernelspec": {
   "display_name": "Python 3",
   "language": "python",
   "name": "python3"
  },
  "language_info": {
   "codemirror_mode": {
    "name": "ipython",
    "version": 3
   },
   "file_extension": ".py",
   "mimetype": "text/x-python",
   "name": "python",
   "nbconvert_exporter": "python",
   "pygments_lexer": "ipython3",
   "version": "3.7.6"
  }
 },
 "nbformat": 4,
 "nbformat_minor": 4
}
